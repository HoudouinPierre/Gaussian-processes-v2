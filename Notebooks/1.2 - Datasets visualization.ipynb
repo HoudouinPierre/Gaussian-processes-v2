{
 "cells": [
  {
   "cell_type": "code",
   "execution_count": 1,
   "id": "771a60c6",
   "metadata": {},
   "outputs": [],
   "source": [
    "import sys \n",
    "sys.path.append(\"C:/Users/L2S/Desktop/Efficient_and_reliable_GP/Code/\")\n",
    "from dataset_generation import sampler, extract_K_samples\n",
    "from dataset_visualization import plot_1D_function, plot_2D_function_3D, plot_2D_function_heatmap"
   ]
  },
  {
   "cell_type": "markdown",
   "id": "f0d99c9e",
   "metadata": {},
   "source": [
    "# Parameters"
   ]
  },
  {
   "cell_type": "code",
   "execution_count": null,
   "id": "3a6f6cc7-b037-41ac-8ac2-929d87012ea7",
   "metadata": {},
   "outputs": [],
   "source": [
    "# Dataset\n",
    "space_size              = 1\n",
    "N_function              = 500\n",
    "all_function_parameters = {\"Power sinus 1D\"                : {\"Power\" : 1},\n",
    "                           \"Heaviside 1D\"                  : {\"x gaps\" : [0, 0.5, 1], \"steps value\" : [1, -1], \"sigma noises\" : [0.2, 0.2]},\n",
    "                           \"Multimodal sinus 1D\"           : {\"x gaps\" : [0, 0.5, 1], \"speeds value\" : [1, 2]},\n",
    "                           \"Noisy sinus 1D\"                : {\"sigma noise\" : 0.2},\n",
    "                           \"Sinus times x 1D\"              : {},\n",
    "                           \"Sinus cardinal 1D\"             : {},\n",
    "                           \"Slide function\"                : {},\n",
    "                           \"Two bumps\"                     : {},\n",
    "                           \"Power sinus 2D\"                : {\"Power\" : 1},\n",
    "                           \"Heaviside 2D\"                  : {\"x gaps\" : [0, 1, 2], \"steps value\" : [1, -1], \"sigma noises\" : [0.2, 0.2]},\n",
    "                           \"Multimodal sinus 2D\"           : {\"x gaps\" : [0, 1, 2], \"speeds value\" : [1, 2]},\n",
    "                           \"Noisy sinus 2D\"                : {\"sigma noise\" : 0.2},\n",
    "                           \"Sinus times x 2D\"              : {},\n",
    "                           \"Sinus cardinal 2D\"             : {},\n",
    "                           \"Gaussian process trajectory\"   : {\"sigma0\" : 1, \"theta\" : 1},\n",
    "                           \"Concrete compressive strength\" : {},\n",
    "                           \"Energy efficiency\"             : {},\n",
    "                           \"Auto mpg\"                      : {},\n",
    "                           \"Combined cycle power plant\"    : {},\n",
    "                           \"Airfoil self-noise\"            : {},\n",
    "                           \"Morokoff & caflisch 1\"         : {\"Dimension\" : 2},\n",
    "                           \"Morokoff & caflisch 2\"         : {\"Dimension\" : 2},\n",
    "                           \"Branin\"                        : {},\n",
    "                           \"Branin hoo\"                    : {},\n",
    "                           \"Goldstein\"                     : {},\n",
    "                           \"Goldstein price\"               : {},\n",
    "                           \"Rosenbrock4\"                   : {},\n",
    "                           \"Hartman4\"                      : {},\n",
    "                           \"Hartman6\"                      : {},\n",
    "                           \"Sphere6\"                       : {},\n",
    "                           \"Iooss1\"                        : {},\n",
    "                           \"Iooss2\"                        : {},\n",
    "                           \"Wing weight\"                   : {},\n",
    "                           \"Sobol\"                         : {\"a\" : [1, 10]},\n",
    "                           \"Two input toy\"                 : {},\n",
    "                           \"Highly non linear\"             : {},\n",
    "                           \"Mystery\"                       : {},\n",
    "                           \"Six hump camelback\"            : {},\n",
    "                           \"Ishigami\"                      : {}\n",
    "                          }\n",
    "N_train                 = 5\n",
    "N_test                  = 5\n",
    "\n",
    "# Visualization\n",
    "library                 = \"plotly\"\n",
    "plot_type_2D            = \"3D\" # 3D or heatmap\n",
    "save_path               = \"C:/Users/L2S/Desktop/Efficient_and_reliable_GP/Results/\""
   ]
  },
  {
   "cell_type": "markdown",
   "id": "d03dee55",
   "metadata": {},
   "source": [
    "# 1 - 1D Synthetic datasets"
   ]
  },
  {
   "cell_type": "markdown",
   "id": "2efa8886",
   "metadata": {},
   "source": [
    "### 1.1 - Power sinus 1D"
   ]
  },
  {
   "cell_type": "code",
   "execution_count": null,
   "id": "de97f460",
   "metadata": {},
   "outputs": [],
   "source": [
    "function_name = \"Power sinus 1D\""
   ]
  },
  {
   "cell_type": "code",
   "execution_count": null,
   "id": "83effd45",
   "metadata": {},
   "outputs": [],
   "source": [
    "X_function, Y_function = sampler          (space_size, N_function, function_name, all_function_parameters)\n",
    "X, Y                   = extract_K_samples(X_function, Y_function, N_train + N_test)\n",
    "X_observed, Y_observed = X[:N_train], Y[:N_train]\n",
    "X_test    , Y_test     = X[N_train:], Y[N_train:]\n",
    "plot_1D_function(X_observed, Y_observed, X_test, Y_test, X_function, Y_function, library, save_path, function_name)"
   ]
  },
  {
   "cell_type": "markdown",
   "id": "518a5004",
   "metadata": {},
   "source": [
    "### 1.2 - Heaviside 1D"
   ]
  },
  {
   "cell_type": "code",
   "execution_count": null,
   "id": "b71da939",
   "metadata": {},
   "outputs": [],
   "source": [
    "function_name       = \"Heaviside 1D\""
   ]
  },
  {
   "cell_type": "code",
   "execution_count": null,
   "id": "1696e9d8",
   "metadata": {},
   "outputs": [],
   "source": [
    "X_function, Y_function = sampler          (space_size, N_function, function_name, all_function_parameters)\n",
    "X, Y                   = extract_K_samples(X_function, Y_function, N_train + N_test)\n",
    "X_observed, Y_observed = X[:N_train], Y[:N_train]\n",
    "X_test    , Y_test     = X[N_train:], Y[N_train:]\n",
    "plot_1D_function(X_observed, Y_observed, X_test, Y_test, X_function, Y_function, library, save_path, function_name)"
   ]
  },
  {
   "cell_type": "markdown",
   "id": "7ee5122c",
   "metadata": {},
   "source": [
    "### 1.3 - Multimodal sinus 1D"
   ]
  },
  {
   "cell_type": "code",
   "execution_count": null,
   "id": "c78bf9b6",
   "metadata": {},
   "outputs": [],
   "source": [
    "function_name = \"Multimodal sinus 1D\""
   ]
  },
  {
   "cell_type": "code",
   "execution_count": null,
   "id": "aa087121",
   "metadata": {},
   "outputs": [],
   "source": [
    "X_function, Y_function = sampler          (space_size, N_function, function_name, all_function_parameters)\n",
    "X, Y                   = extract_K_samples(X_function, Y_function, N_train + N_test)\n",
    "X_observed, Y_observed = X[:N_train], Y[:N_train]\n",
    "X_test    , Y_test     = X[N_train:], Y[N_train:]\n",
    "plot_1D_function(X_observed, Y_observed, X_test, Y_test, X_function, Y_function, library, save_path, function_name)"
   ]
  },
  {
   "cell_type": "markdown",
   "id": "71f11244",
   "metadata": {},
   "source": [
    "### 1.4 - Noisy sinus 1D"
   ]
  },
  {
   "cell_type": "code",
   "execution_count": null,
   "id": "d90328f2",
   "metadata": {},
   "outputs": [],
   "source": [
    "function_name = \"Noisy sinus 1D\""
   ]
  },
  {
   "cell_type": "code",
   "execution_count": null,
   "id": "98dcb453",
   "metadata": {},
   "outputs": [],
   "source": [
    "X_function, Y_function = sampler          (space_size, N_function, function_name, all_function_parameters)\n",
    "X, Y                   = extract_K_samples(X_function, Y_function, N_train + N_test)\n",
    "X_observed, Y_observed = X[:N_train], Y[:N_train]\n",
    "X_test    , Y_test     = X[N_train:], Y[N_train:]\n",
    "plot_1D_function(X_observed, Y_observed, X_test, Y_test, X_function, Y_function, library, save_path, function_name)"
   ]
  },
  {
   "cell_type": "markdown",
   "id": "71a2d3a6",
   "metadata": {},
   "source": [
    "### 1.5 - Sinus times x 1D"
   ]
  },
  {
   "cell_type": "code",
   "execution_count": null,
   "id": "7f9272a1",
   "metadata": {},
   "outputs": [],
   "source": [
    "function_name = \"Sinus times x 1D\""
   ]
  },
  {
   "cell_type": "code",
   "execution_count": null,
   "id": "4ecae507",
   "metadata": {},
   "outputs": [],
   "source": [
    "X_function, Y_function = sampler          (space_size, N_function, function_name, all_function_parameters)\n",
    "X, Y                   = extract_K_samples(X_function, Y_function, N_train + N_test)\n",
    "X_observed, Y_observed = X[:N_train], Y[:N_train]\n",
    "X_test    , Y_test     = X[N_train:], Y[N_train:]\n",
    "plot_1D_function(X_observed, Y_observed, X_test, Y_test, X_function, Y_function, library, save_path, function_name)"
   ]
  },
  {
   "cell_type": "markdown",
   "id": "d48b0d1a",
   "metadata": {},
   "source": [
    "### 1.6 - Sinus cardinal 1D"
   ]
  },
  {
   "cell_type": "code",
   "execution_count": null,
   "id": "38a8236c",
   "metadata": {},
   "outputs": [],
   "source": [
    "function_name = \"Sinus cardinal 1D\""
   ]
  },
  {
   "cell_type": "code",
   "execution_count": null,
   "id": "08c5f649",
   "metadata": {},
   "outputs": [],
   "source": [
    "X_function, Y_function = sampler          (space_size, N_function, function_name, all_function_parameters)\n",
    "X, Y                   = extract_K_samples(X_function, Y_function, N_train + N_test)\n",
    "X_observed, Y_observed = X[:N_train], Y[:N_train]\n",
    "X_test    , Y_test     = X[N_train:], Y[N_train:]\n",
    "plot_1D_function(X_observed, Y_observed, X_test, Y_test, X_function, Y_function, library, save_path, function_name)"
   ]
  },
  {
   "cell_type": "markdown",
   "id": "87938a1f",
   "metadata": {},
   "source": [
    "### 1.7 - Custom function"
   ]
  },
  {
   "cell_type": "code",
   "execution_count": null,
   "id": "61507fee",
   "metadata": {},
   "outputs": [],
   "source": [
    "function_name = \"Slide function\""
   ]
  },
  {
   "cell_type": "code",
   "execution_count": null,
   "id": "5e379dd3",
   "metadata": {},
   "outputs": [],
   "source": [
    "X_function, Y_function = sampler          (space_size, N_function, function_name, all_function_parameters)\n",
    "X, Y                   = extract_K_samples(X_function, Y_function, N_train + N_test)\n",
    "X_observed, Y_observed = X[:N_train], Y[:N_train]\n",
    "X_test    , Y_test     = X[N_train:], Y[N_train:]\n",
    "plot_1D_function(X_observed, Y_observed, X_test, Y_test, X_function, Y_function, library, save_path, function_name)"
   ]
  },
  {
   "cell_type": "markdown",
   "id": "ae3289ba-5a87-432e-879e-779672a2f1f6",
   "metadata": {},
   "source": [
    "### 1.8 - Two bumps"
   ]
  },
  {
   "cell_type": "code",
   "execution_count": null,
   "id": "a22bc15d-2758-4721-8678-5a39af4019c7",
   "metadata": {},
   "outputs": [],
   "source": [
    "function_name = \"Two bumps\""
   ]
  },
  {
   "cell_type": "code",
   "execution_count": null,
   "id": "8ce71999-5338-42f6-9938-c5666d070c45",
   "metadata": {},
   "outputs": [],
   "source": [
    "X_function, Y_function = sampler          (space_size, N_function, function_name, all_function_parameters)\n",
    "X, Y                   = extract_K_samples(X_function, Y_function, N_train + N_test)\n",
    "X_observed, Y_observed = X[:N_train], Y[:N_train]\n",
    "X_test    , Y_test     = X[N_train:], Y[N_train:]\n",
    "plot_1D_function(X_observed, Y_observed, X_test, Y_test, X_function, Y_function, library, save_path, function_name)"
   ]
  },
  {
   "cell_type": "markdown",
   "id": "45c632df-d940-4390-ab24-5d4ab5a558c5",
   "metadata": {},
   "source": [
    "# 2 - 2D Synthetic datasets"
   ]
  },
  {
   "cell_type": "markdown",
   "id": "0d18b5f5-9b1d-4cc9-b9a3-8d3c31481d2b",
   "metadata": {},
   "source": [
    "### 2.1 - Power sinus 2D"
   ]
  },
  {
   "cell_type": "code",
   "execution_count": null,
   "id": "3942c4b9-4d30-4ce8-99ae-e363d41539ca",
   "metadata": {},
   "outputs": [],
   "source": [
    "function_name = \"Power sinus 2D\""
   ]
  },
  {
   "cell_type": "code",
   "execution_count": null,
   "id": "734d208a-f243-4a7e-bb12-847b59278e0a",
   "metadata": {},
   "outputs": [],
   "source": [
    "X_function, Y_function = sampler          (space_size, N_function, function_name, all_function_parameters)\n",
    "X, Y                   = extract_K_samples(X_function, Y_function, N_train + N_test)\n",
    "X_observed, Y_observed = X[:N_train], Y[:N_train]\n",
    "X_test    , Y_test     = X[N_train:], Y[N_train:]\n",
    "if plot_type_2D == \"3D\":\n",
    "    plot_2D_function_3D     (X_observed, Y_observed, X_test, Y_test, X_function, function_name, all_function_parameters[function_name], library, save_path)\n",
    "if plot_type_2D == \"heatmap\":\n",
    "    plot_2D_function_heatmap(X_observed, Y_observed, X_test, Y_test, X_function, function_name, all_function_parameters[function_name], library, save_path)"
   ]
  },
  {
   "cell_type": "markdown",
   "id": "70345752-f83e-4d5b-94a6-931c0db20e71",
   "metadata": {},
   "source": [
    "### 2.2 - Heaviside 2D"
   ]
  },
  {
   "cell_type": "code",
   "execution_count": null,
   "id": "5c8746da-3a9a-4207-8ee8-ba926ace3c19",
   "metadata": {},
   "outputs": [],
   "source": [
    "function_name       = \"Heaviside 2D\""
   ]
  },
  {
   "cell_type": "code",
   "execution_count": null,
   "id": "bcf9f2e6-3239-4cac-89a0-271e6fadecb1",
   "metadata": {},
   "outputs": [],
   "source": [
    "X_function, Y_function = sampler          (space_size, N_function, function_name, all_function_parameters)\n",
    "X, Y                   = extract_K_samples(X_function, Y_function, N_train + N_test)\n",
    "X_observed, Y_observed = X[:N_train], Y[:N_train]\n",
    "X_test    , Y_test     = X[N_train:], Y[N_train:]\n",
    "if plot_type_2D == \"3D\":\n",
    "    plot_2D_function_3D     (X_observed, Y_observed, X_test, Y_test, X_function, function_name, all_function_parameters[function_name], library, save_path)\n",
    "if plot_type_2D == \"heatmap\":\n",
    "    plot_2D_function_heatmap(X_observed, Y_observed, X_test, Y_test, X_function, function_name, all_function_parameters[function_name], library, save_path)"
   ]
  },
  {
   "cell_type": "markdown",
   "id": "6cb73f3d-36b9-4d0f-b34c-fd7ed9dd02f6",
   "metadata": {},
   "source": [
    "### 2.3 - Multimodal sinus 2D"
   ]
  },
  {
   "cell_type": "code",
   "execution_count": null,
   "id": "10231134-bd10-4b39-9f3a-1491f068ffe0",
   "metadata": {},
   "outputs": [],
   "source": [
    "function_name = \"Multimodal sinus 2D\""
   ]
  },
  {
   "cell_type": "code",
   "execution_count": null,
   "id": "d7551936-5e4f-4458-930e-c904d1f3e8b4",
   "metadata": {},
   "outputs": [],
   "source": [
    "X_function, Y_function = sampler          (space_size, N_function, function_name, all_function_parameters)\n",
    "X, Y                   = extract_K_samples(X_function, Y_function, N_train + N_test)\n",
    "X_observed, Y_observed = X[:N_train], Y[:N_train]\n",
    "X_test    , Y_test     = X[N_train:], Y[N_train:]\n",
    "if plot_type_2D == \"3D\":\n",
    "    plot_2D_function_3D     (X_observed, Y_observed, X_test, Y_test, X_function, function_name, all_function_parameters[function_name], library, save_path)\n",
    "if plot_type_2D == \"heatmap\":\n",
    "    plot_2D_function_heatmap(X_observed, Y_observed, X_test, Y_test, X_function, function_name, all_function_parameters[function_name], library, save_path)"
   ]
  },
  {
   "cell_type": "markdown",
   "id": "c40744fa-f11d-4be4-8696-a6e7dd599651",
   "metadata": {},
   "source": [
    "### 2.4 - Noisy sinus 2D"
   ]
  },
  {
   "cell_type": "code",
   "execution_count": null,
   "id": "1327bfcc-9a7a-49f7-9e11-aff54c461fa0",
   "metadata": {},
   "outputs": [],
   "source": [
    "function_name = \"Noisy sinus 2D\""
   ]
  },
  {
   "cell_type": "code",
   "execution_count": null,
   "id": "f35c5b0e-94fe-45aa-bd6c-1804892f61d9",
   "metadata": {},
   "outputs": [],
   "source": [
    "X_function, Y_function = sampler          (space_size, N_function, function_name, all_function_parameters)\n",
    "X, Y                   = extract_K_samples(X_function, Y_function, N_train + N_test)\n",
    "X_observed, Y_observed = X[:N_train], Y[:N_train]\n",
    "X_test    , Y_test     = X[N_train:], Y[N_train:]\n",
    "if plot_type_2D == \"3D\":\n",
    "    plot_2D_function_3D     (X_observed, Y_observed, X_test, Y_test, X_function, function_name, all_function_parameters[function_name], library, save_path)\n",
    "if plot_type_2D == \"heatmap\":\n",
    "    plot_2D_function_heatmap(X_observed, Y_observed, X_test, Y_test, X_function, function_name, all_function_parameters[function_name], library, save_path)"
   ]
  },
  {
   "cell_type": "markdown",
   "id": "0ed68568-923d-4454-96f0-dbf5e51bf3c4",
   "metadata": {},
   "source": [
    "### 2.5 - Sinus times x 2D"
   ]
  },
  {
   "cell_type": "code",
   "execution_count": null,
   "id": "dcf6b897-14ce-4fcc-a291-3c984302d9e6",
   "metadata": {},
   "outputs": [],
   "source": [
    "function_name = \"Sinus times x 2D\""
   ]
  },
  {
   "cell_type": "code",
   "execution_count": null,
   "id": "fada788c-d3dc-4aa9-b7fc-4a80b0ab2511",
   "metadata": {},
   "outputs": [],
   "source": [
    "X_function, Y_function = sampler          (space_size, N_function, function_name, all_function_parameters)\n",
    "X, Y                   = extract_K_samples(X_function, Y_function, N_train + N_test)\n",
    "X_observed, Y_observed = X[:N_train], Y[:N_train]\n",
    "X_test    , Y_test     = X[N_train:], Y[N_train:]\n",
    "if plot_type_2D == \"3D\":\n",
    "    plot_2D_function_3D     (X_observed, Y_observed, X_test, Y_test, X_function, function_name, all_function_parameters[function_name], library, save_path)\n",
    "if plot_type_2D == \"heatmap\":\n",
    "    plot_2D_function_heatmap(X_observed, Y_observed, X_test, Y_test, X_function, function_name, all_function_parameters[function_name], library, save_path)"
   ]
  },
  {
   "cell_type": "markdown",
   "id": "590c10fb-f8b6-413f-942f-240e350b0184",
   "metadata": {},
   "source": [
    "### 2.6 - Sinus cardinal 2D"
   ]
  },
  {
   "cell_type": "code",
   "execution_count": null,
   "id": "c60ee868-c62e-4aba-a950-0b10843f05b6",
   "metadata": {},
   "outputs": [],
   "source": [
    "function_name = \"Sinus cardinal 2D\""
   ]
  },
  {
   "cell_type": "code",
   "execution_count": null,
   "id": "0691af64-b4ff-4c96-9f4c-facfbb230ff0",
   "metadata": {},
   "outputs": [],
   "source": [
    "X_function, Y_function = sampler          (space_size, N_function, function_name, all_function_parameters)\n",
    "X, Y                   = extract_K_samples(X_function, Y_function, N_train + N_test)\n",
    "X_observed, Y_observed = X[:N_train], Y[:N_train]\n",
    "X_test    , Y_test     = X[N_train:], Y[N_train:]\n",
    "if plot_type_2D == \"3D\":\n",
    "    plot_2D_function_3D     (X_observed, Y_observed, X_test, Y_test, X_function, function_name, all_function_parameters[function_name], library, save_path)\n",
    "if plot_type_2D == \"heatmap\":\n",
    "    plot_2D_function_heatmap(X_observed, Y_observed, X_test, Y_test, X_function, function_name, all_function_parameters[function_name], library, save_path)"
   ]
  },
  {
   "cell_type": "markdown",
   "id": "defe0333",
   "metadata": {},
   "source": [
    "# 3 - Gaussian process trajectory"
   ]
  },
  {
   "cell_type": "code",
   "execution_count": null,
   "id": "b36ed029-4d10-4da8-beba-63260375526c",
   "metadata": {},
   "outputs": [],
   "source": [
    "function_name = \"Gaussian process trajectory\""
   ]
  },
  {
   "cell_type": "code",
   "execution_count": null,
   "id": "435a9001-17a7-4141-8971-53a874f4b41d",
   "metadata": {},
   "outputs": [],
   "source": [
    "X_function, Y_function = sampler          (space_size, N_function, function_name, all_function_parameters)\n",
    "X, Y                   = extract_K_samples(X_function, Y_function, N_train + N_test)\n",
    "X_observed, Y_observed = X[:N_train], Y[:N_train]\n",
    "X_test    , Y_test     = X[N_train:], Y[N_train:]\n",
    "plot_1D_function(X_observed, Y_observed, X_test, Y_test, X_function, Y_function, library, save_path, function_name)"
   ]
  },
  {
   "cell_type": "markdown",
   "id": "24a81d41-7130-4cb5-beaa-95293fb511b6",
   "metadata": {},
   "source": [
    "# 4 - Literature dataset 2D"
   ]
  },
  {
   "cell_type": "markdown",
   "id": "0540c6f4-96e6-47c6-aa5e-6f63d4a296ae",
   "metadata": {},
   "source": [
    "### 4.1 - Branin"
   ]
  },
  {
   "cell_type": "code",
   "execution_count": null,
   "id": "7eb75e1f-feb0-4d64-8543-155398a1e001",
   "metadata": {},
   "outputs": [],
   "source": [
    "function_name = \"Branin\""
   ]
  },
  {
   "cell_type": "code",
   "execution_count": null,
   "id": "3f22f875-ac88-48d9-8917-f4f2da2b44fb",
   "metadata": {},
   "outputs": [],
   "source": [
    "X_function, Y_function = sampler          (space_size, N_function, function_name, all_function_parameters)\n",
    "X, Y                   = extract_K_samples(X_function, Y_function, N_train + N_test)\n",
    "X_observed, Y_observed = X[:N_train], Y[:N_train]\n",
    "X_test    , Y_test     = X[N_train:], Y[N_train:]\n",
    "if plot_type_2D == \"3D\":\n",
    "    plot_2D_function_3D     (X_observed, Y_observed, X_test, Y_test, X_function, function_name, all_function_parameters[function_name], library, save_path)\n",
    "if plot_type_2D == \"heatmap\":\n",
    "    plot_2D_function_heatmap(X_observed, Y_observed, X_test, Y_test, X_function, function_name, all_function_parameters[function_name], library, save_path)"
   ]
  },
  {
   "cell_type": "markdown",
   "id": "1adda583-3b4d-49a4-a981-9c58a1858ef2",
   "metadata": {},
   "source": [
    "### 4.2 - Branin hoo"
   ]
  },
  {
   "cell_type": "code",
   "execution_count": null,
   "id": "f4aa3b56-e765-4a42-a4b7-71456f4b9ff4",
   "metadata": {},
   "outputs": [],
   "source": [
    "function_name = \"Branin hoo\""
   ]
  },
  {
   "cell_type": "code",
   "execution_count": null,
   "id": "a1d02c26-8080-48ea-bce5-cee3470e8dff",
   "metadata": {},
   "outputs": [],
   "source": [
    "X_function, Y_function = sampler          (space_size, N_function, function_name, all_function_parameters)\n",
    "X, Y                   = extract_K_samples(X_function, Y_function, N_train + N_test)\n",
    "X_observed, Y_observed = X[:N_train], Y[:N_train]\n",
    "X_test    , Y_test     = X[N_train:], Y[N_train:]\n",
    "if plot_type_2D == \"3D\":\n",
    "    plot_2D_function_3D     (X_observed, Y_observed, X_test, Y_test, X_function, function_name, all_function_parameters[function_name], library, save_path)\n",
    "if plot_type_2D == \"heatmap\":\n",
    "    plot_2D_function_heatmap(X_observed, Y_observed, X_test, Y_test, X_function, function_name, all_function_parameters[function_name], library, save_path)"
   ]
  },
  {
   "cell_type": "markdown",
   "id": "ec650680-abc5-4a2d-9fa2-a9060ae2688b",
   "metadata": {},
   "source": [
    "### 4.3 - Goldstein"
   ]
  },
  {
   "cell_type": "code",
   "execution_count": null,
   "id": "f32c0eff-3097-483c-bf0d-a454e2763a65",
   "metadata": {},
   "outputs": [],
   "source": [
    "function_name = \"Goldstein\""
   ]
  },
  {
   "cell_type": "code",
   "execution_count": null,
   "id": "bed794af-0253-4e7d-8c6d-e5bf166a8d79",
   "metadata": {},
   "outputs": [],
   "source": [
    "X_function, Y_function = sampler          (space_size, N_function, function_name, all_function_parameters)\n",
    "X, Y                   = extract_K_samples(X_function, Y_function, N_train + N_test)\n",
    "X_observed, Y_observed = X[:N_train], Y[:N_train]\n",
    "X_test    , Y_test     = X[N_train:], Y[N_train:]\n",
    "if plot_type_2D == \"3D\":\n",
    "    plot_2D_function_3D     (X_observed, Y_observed, X_test, Y_test, X_function, function_name, all_function_parameters[function_name], library, save_path)\n",
    "if plot_type_2D == \"heatmap\":\n",
    "    plot_2D_function_heatmap(X_observed, Y_observed, X_test, Y_test, X_function, function_name, all_function_parameters[function_name], library, save_path)"
   ]
  },
  {
   "cell_type": "markdown",
   "id": "4a3e4ed3-b1fa-43f4-8455-09c6b7172b3d",
   "metadata": {},
   "source": [
    "### 4.4 - Goldstein price"
   ]
  },
  {
   "cell_type": "code",
   "execution_count": null,
   "id": "d7ffcbeb-d4a7-476e-8a63-ed3f44671dd0",
   "metadata": {},
   "outputs": [],
   "source": [
    "function_name = \"Goldstein price\""
   ]
  },
  {
   "cell_type": "code",
   "execution_count": null,
   "id": "e165d020-3171-4421-ae3f-6def4dcbe58f",
   "metadata": {},
   "outputs": [],
   "source": [
    "X_function, Y_function = sampler          (space_size, N_function, function_name, all_function_parameters)\n",
    "X, Y                   = extract_K_samples(X_function, Y_function, N_train + N_test)\n",
    "X_observed, Y_observed = X[:N_train], Y[:N_train]\n",
    "X_test    , Y_test     = X[N_train:], Y[N_train:]\n",
    "if plot_type_2D == \"3D\":\n",
    "    plot_2D_function_3D     (X_observed, Y_observed, X_test, Y_test, X_function, function_name, all_function_parameters[function_name], library, save_path)\n",
    "if plot_type_2D == \"heatmap\":\n",
    "    plot_2D_function_heatmap(X_observed, Y_observed, X_test, Y_test, X_function, function_name, all_function_parameters[function_name], library, save_path)"
   ]
  },
  {
   "cell_type": "markdown",
   "id": "5bbe0a07-31b2-4d82-9d35-1fef5f82a8db",
   "metadata": {},
   "source": [
    "### 4.5 - Iooss1"
   ]
  },
  {
   "cell_type": "code",
   "execution_count": null,
   "id": "be5fa0b5-7f49-48d3-8bdd-5f384bdefcf4",
   "metadata": {},
   "outputs": [],
   "source": [
    "function_name = \"Iooss1\""
   ]
  },
  {
   "cell_type": "code",
   "execution_count": null,
   "id": "34af69a0-546c-4462-9647-0f2dfadbe49c",
   "metadata": {},
   "outputs": [],
   "source": [
    "X_function, Y_function = sampler          (space_size, N_function, function_name, all_function_parameters)\n",
    "X, Y                   = extract_K_samples(X_function, Y_function, N_train + N_test)\n",
    "X_observed, Y_observed = X[:N_train], Y[:N_train]\n",
    "X_test    , Y_test     = X[N_train:], Y[N_train:]\n",
    "if plot_type_2D == \"3D\":\n",
    "    plot_2D_function_3D     (X_observed, Y_observed, X_test, Y_test, X_function, function_name, all_function_parameters[function_name], library, save_path)\n",
    "if plot_type_2D == \"heatmap\":\n",
    "    plot_2D_function_heatmap(X_observed, Y_observed, X_test, Y_test, X_function, function_name, all_function_parameters[function_name], library, save_path)"
   ]
  },
  {
   "cell_type": "markdown",
   "id": "0a311084-3382-4814-a59c-fc54fc1d6e63",
   "metadata": {},
   "source": [
    "### 4.6 - Iooss2"
   ]
  },
  {
   "cell_type": "code",
   "execution_count": null,
   "id": "f1a96478-4e4e-42a2-b30b-7a84d89edffb",
   "metadata": {},
   "outputs": [],
   "source": [
    "function_name = \"Iooss2\""
   ]
  },
  {
   "cell_type": "code",
   "execution_count": null,
   "id": "9d46c78a-0c08-4eb8-b78c-41671d1c65ae",
   "metadata": {},
   "outputs": [],
   "source": [
    "X_function, Y_function = sampler          (space_size, N_function, function_name, all_function_parameters)\n",
    "X, Y                   = extract_K_samples(X_function, Y_function, N_train + N_test)\n",
    "X_observed, Y_observed = X[:N_train], Y[:N_train]\n",
    "X_test    , Y_test     = X[N_train:], Y[N_train:]\n",
    "if plot_type_2D == \"3D\":\n",
    "    plot_2D_function_3D     (X_observed, Y_observed, X_test, Y_test, X_function, function_name, all_function_parameters[function_name], library, save_path)\n",
    "if plot_type_2D == \"heatmap\":\n",
    "    plot_2D_function_heatmap(X_observed, Y_observed, X_test, Y_test, X_function, function_name, all_function_parameters[function_name], library, save_path)"
   ]
  },
  {
   "cell_type": "markdown",
   "id": "31e838bf-1c42-4a37-aa9e-18c56c59d574",
   "metadata": {},
   "source": [
    "### 4.7 - Two input toy"
   ]
  },
  {
   "cell_type": "code",
   "execution_count": null,
   "id": "e3fd2e19-92ae-4931-b6a4-62d190033a56",
   "metadata": {},
   "outputs": [],
   "source": [
    "function_name = \"Two input toy\""
   ]
  },
  {
   "cell_type": "code",
   "execution_count": null,
   "id": "a1ba4140-3249-4ece-a6b0-ab41432ead28",
   "metadata": {},
   "outputs": [],
   "source": [
    "X_function, Y_function = sampler          (space_size, N_function, function_name, all_function_parameters)\n",
    "X, Y                   = extract_K_samples(X_function, Y_function, N_train + N_test)\n",
    "X_observed, Y_observed = X[:N_train], Y[:N_train]\n",
    "X_test    , Y_test     = X[N_train:], Y[N_train:]\n",
    "if plot_type_2D == \"3D\":\n",
    "    plot_2D_function_3D     (X_observed, Y_observed, X_test, Y_test, X_function, function_name, all_function_parameters[function_name], library, save_path)\n",
    "if plot_type_2D == \"heatmap\":\n",
    "    plot_2D_function_heatmap(X_observed, Y_observed, X_test, Y_test, X_function, function_name, all_function_parameters[function_name], library, save_path)"
   ]
  },
  {
   "cell_type": "markdown",
   "id": "306bf1e5-beb7-4b12-91aa-d984ebce5aa5",
   "metadata": {},
   "source": [
    "### 4.8 - Highly non linear"
   ]
  },
  {
   "cell_type": "code",
   "execution_count": null,
   "id": "c054657c-a1a7-4089-bd64-ae5d494861dd",
   "metadata": {},
   "outputs": [],
   "source": [
    "function_name = \"Highly non linear\""
   ]
  },
  {
   "cell_type": "code",
   "execution_count": null,
   "id": "5c4859d2-f255-41b4-8504-0e88fe598a45",
   "metadata": {},
   "outputs": [],
   "source": [
    "X_function, Y_function = sampler          (space_size, N_function, function_name, all_function_parameters)\n",
    "X, Y                   = extract_K_samples(X_function, Y_function, N_train + N_test)\n",
    "X_observed, Y_observed = X[:N_train], Y[:N_train]\n",
    "X_test    , Y_test     = X[N_train:], Y[N_train:]\n",
    "if plot_type_2D == \"3D\":\n",
    "    plot_2D_function_3D     (X_observed, Y_observed, X_test, Y_test, X_function, function_name, all_function_parameters[function_name], library, save_path)\n",
    "if plot_type_2D == \"heatmap\":\n",
    "    plot_2D_function_heatmap(X_observed, Y_observed, X_test, Y_test, X_function, function_name, all_function_parameters[function_name], library, save_path)"
   ]
  },
  {
   "cell_type": "markdown",
   "id": "04568212-3579-4ad2-8213-5b8f20a2782d",
   "metadata": {},
   "source": [
    "### 4.9 - Mystery"
   ]
  },
  {
   "cell_type": "code",
   "execution_count": null,
   "id": "40f10baa-0338-42a0-a28a-4af916750422",
   "metadata": {},
   "outputs": [],
   "source": [
    "function_name = \"Mystery\""
   ]
  },
  {
   "cell_type": "code",
   "execution_count": null,
   "id": "5e36714d-00d0-4ba5-adc8-f14359f8601d",
   "metadata": {},
   "outputs": [],
   "source": [
    "X_function, Y_function = sampler          (space_size, N_function, function_name, all_function_parameters)\n",
    "X, Y                   = extract_K_samples(X_function, Y_function, N_train + N_test)\n",
    "X_observed, Y_observed = X[:N_train], Y[:N_train]\n",
    "X_test    , Y_test     = X[N_train:], Y[N_train:]\n",
    "if plot_type_2D == \"3D\":\n",
    "    plot_2D_function_3D     (X_observed, Y_observed, X_test, Y_test, X_function, function_name, all_function_parameters[function_name], library, save_path)\n",
    "if plot_type_2D == \"heatmap\":\n",
    "    plot_2D_function_heatmap(X_observed, Y_observed, X_test, Y_test, X_function, function_name, all_function_parameters[function_name], library, save_path)"
   ]
  },
  {
   "cell_type": "markdown",
   "id": "ae7bcd67-fbc4-44b4-8824-1f0d8cea0342",
   "metadata": {},
   "source": [
    "### 4.10 - Six hump camelback"
   ]
  },
  {
   "cell_type": "code",
   "execution_count": null,
   "id": "8a29cc50-d6e5-49c1-8248-e3546ad84e4a",
   "metadata": {},
   "outputs": [],
   "source": [
    "function_name = \"Six hump camelback\""
   ]
  },
  {
   "cell_type": "code",
   "execution_count": null,
   "id": "5ebf5b0b-79a6-427d-86ea-05a5fc6663e5",
   "metadata": {},
   "outputs": [],
   "source": [
    "X_function, Y_function = sampler          (space_size, N_function, function_name, all_function_parameters)\n",
    "X, Y                   = extract_K_samples(X_function, Y_function, N_train + N_test)\n",
    "X_observed, Y_observed = X[:N_train], Y[:N_train]\n",
    "X_test    , Y_test     = X[N_train:], Y[N_train:]\n",
    "if plot_type_2D == \"3D\":\n",
    "    plot_2D_function_3D     (X_observed, Y_observed, X_test, Y_test, X_function, function_name, all_function_parameters[function_name], library, save_path)\n",
    "if plot_type_2D == \"heatmap\":\n",
    "    plot_2D_function_heatmap(X_observed, Y_observed, X_test, Y_test, X_function, function_name, all_function_parameters[function_name], library, save_path)"
   ]
  },
  {
   "cell_type": "markdown",
   "id": "2ee2a70f-dc3a-4bce-af76-5995fc80dafd",
   "metadata": {},
   "source": [
    "### 4.11 - Morokoff & caflisch 1"
   ]
  },
  {
   "cell_type": "code",
   "execution_count": null,
   "id": "8ba6af03-4a48-4f39-b543-208ef9bf213d",
   "metadata": {},
   "outputs": [],
   "source": [
    "function_name = \"Morokoff & caflisch 1\""
   ]
  },
  {
   "cell_type": "code",
   "execution_count": null,
   "id": "9a882bdb-d786-4176-8f64-8eea44cd8800",
   "metadata": {},
   "outputs": [],
   "source": [
    "X_function, Y_function = sampler          (space_size, N_function, function_name, all_function_parameters)\n",
    "X, Y                   = extract_K_samples(X_function, Y_function, N_train + N_test)\n",
    "X_observed, Y_observed = X[:N_train], Y[:N_train]\n",
    "X_test    , Y_test     = X[N_train:], Y[N_train:]\n",
    "if plot_type_2D == \"3D\" and len(X[0]) == 2:\n",
    "    plot_2D_function_3D     (X_observed, Y_observed, X_test, Y_test, X_function, function_name, all_function_parameters[function_name], library, save_path)\n",
    "if plot_type_2D == \"heatmap\" and len(X[0]) == 2:\n",
    "    plot_2D_function_heatmap(X_observed, Y_observed, X_test, Y_test, X_function, function_name, all_function_parameters[function_name], library, save_path)"
   ]
  },
  {
   "cell_type": "markdown",
   "id": "c13719a9-5d6b-4fe0-bec7-0746f237b5aa",
   "metadata": {},
   "source": [
    "### 4.12 - Morokoff & caflisch 2"
   ]
  },
  {
   "cell_type": "code",
   "execution_count": null,
   "id": "ee150eb6-d931-4e3c-bcc3-ee70a72c3427",
   "metadata": {},
   "outputs": [],
   "source": [
    "function_name = \"Morokoff & caflisch 2\""
   ]
  },
  {
   "cell_type": "code",
   "execution_count": null,
   "id": "9c657313-2514-4a0c-99e0-4924068815c4",
   "metadata": {},
   "outputs": [],
   "source": [
    "X_function, Y_function = sampler          (space_size, N_function, function_name, all_function_parameters)\n",
    "X, Y                   = extract_K_samples(X_function, Y_function, N_train + N_test)\n",
    "X_observed, Y_observed = X[:N_train], Y[:N_train]\n",
    "X_test    , Y_test     = X[N_train:], Y[N_train:]\n",
    "if plot_type_2D == \"3D\" and len(X[0]) == 2:\n",
    "    plot_2D_function_3D     (X_observed, Y_observed, X_test, Y_test, X_function, function_name, all_function_parameters[function_name], library, save_path)\n",
    "if plot_type_2D == \"heatmap\" and len(X[0]) == 2:\n",
    "    plot_2D_function_heatmap(X_observed, Y_observed, X_test, Y_test, X_function, function_name, all_function_parameters[function_name], library, save_path)"
   ]
  },
  {
   "cell_type": "markdown",
   "id": "024f39fc-038b-42ec-9bc8-a2583af774cb",
   "metadata": {},
   "source": [
    "### 4.13 - Sobol"
   ]
  },
  {
   "cell_type": "code",
   "execution_count": null,
   "id": "853180e8-0f83-464c-81e0-a1881ee28d4e",
   "metadata": {},
   "outputs": [],
   "source": [
    "function_name = \"Sobol\""
   ]
  },
  {
   "cell_type": "code",
   "execution_count": null,
   "id": "6a52bb98-b552-40ad-bef3-9ec0e4b99560",
   "metadata": {},
   "outputs": [],
   "source": [
    "X_function, Y_function = sampler          (space_size, N_function, function_name, all_function_parameters)\n",
    "X, Y                   = extract_K_samples(X_function, Y_function, N_train + N_test)\n",
    "X_observed, Y_observed = X[:N_train], Y[:N_train]\n",
    "X_test    , Y_test     = X[N_train:], Y[N_train:]\n",
    "if plot_type_2D == \"3D\" and len(X[0]) == 2:\n",
    "    plot_2D_function_3D     (X_observed, Y_observed, X_test, Y_test, X_function, function_name, all_function_parameters[function_name], library, save_path)\n",
    "if plot_type_2D == \"heatmap\" and len(X[0]) == 2:\n",
    "    plot_2D_function_heatmap(X_observed, Y_observed, X_test, Y_test, X_function, function_name, all_function_parameters[function_name], library, save_path)"
   ]
  },
  {
   "cell_type": "code",
   "execution_count": null,
   "id": "e78f748e-985b-4110-b455-26430ca8845a",
   "metadata": {},
   "outputs": [],
   "source": []
  }
 ],
 "metadata": {
  "kernelspec": {
   "display_name": "Python 3 (ipykernel)",
   "language": "python",
   "name": "python3"
  },
  "language_info": {
   "codemirror_mode": {
    "name": "ipython",
    "version": 3
   },
   "file_extension": ".py",
   "mimetype": "text/x-python",
   "name": "python",
   "nbconvert_exporter": "python",
   "pygments_lexer": "ipython3",
   "version": "3.11.7"
  }
 },
 "nbformat": 4,
 "nbformat_minor": 5
}
