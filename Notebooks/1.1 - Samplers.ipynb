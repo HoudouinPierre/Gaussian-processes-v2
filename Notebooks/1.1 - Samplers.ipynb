{
 "cells": [
  {
   "cell_type": "code",
   "execution_count": 1,
   "id": "771a60c6",
   "metadata": {},
   "outputs": [],
   "source": [
    "import sys \n",
    "sys.path.append(\"C:/Users/L2S/Desktop/Efficient_and_reliable_GP/\")\n",
    "\n",
    "from Code.data_generation.samplers           import sampler, extract_K_samples\n",
    "from Code.Parameters     .sampler_parameters import sampler_parameters"
   ]
  },
  {
   "cell_type": "markdown",
   "id": "6547fca6-6b73-4981-aad7-ae92aee2a70e",
   "metadata": {},
   "source": [
    "# Parameters"
   ]
  },
  {
   "cell_type": "code",
   "execution_count": 2,
   "id": "dfac856d",
   "metadata": {},
   "outputs": [],
   "source": [
    "# Sampler\n",
    "N_function = 500\n",
    "N_train    = 25\n",
    "N_test     = 25"
   ]
  },
  {
   "cell_type": "markdown",
   "id": "2efa8886",
   "metadata": {},
   "source": [
    "# 1 - 1D synthetic datasets"
   ]
  },
  {
   "cell_type": "markdown",
   "id": "d4f50d5b-afed-4c3a-8850-6c5aa8e54dce",
   "metadata": {},
   "source": [
    "### 1.1 - Power sinus 1D"
   ]
  },
  {
   "cell_type": "code",
   "execution_count": 3,
   "id": "de97f460",
   "metadata": {},
   "outputs": [],
   "source": [
    "function_name = \"Power sinus 1D\""
   ]
  },
  {
   "cell_type": "code",
   "execution_count": 4,
   "id": "83effd45",
   "metadata": {},
   "outputs": [
    {
     "name": "stdout",
     "output_type": "stream",
     "text": [
      "[[0.55485824]\n",
      " [0.15829831]\n",
      " [0.45073976]\n",
      " [0.04459603]\n",
      " [0.02438132]]\n",
      "[-0.33789974  0.83855068  0.3045931   0.2765528   0.15259389]\n"
     ]
    }
   ],
   "source": [
    "function_X, function_Y = sampler          (N_function, function_name, sampler_parameters)\n",
    "X         , Y          = extract_K_samples(function_X, function_Y, N_train + N_test)\n",
    "train_X   , train_Y    = X[:N_train], Y[:N_train]\n",
    "test_X    , test_Y     = X[N_train:], Y[N_train:]\n",
    "print(train_X[:5])\n",
    "print(train_Y[:5])"
   ]
  },
  {
   "cell_type": "markdown",
   "id": "518a5004",
   "metadata": {},
   "source": [
    "### 1.2 - Heaviside 1D"
   ]
  },
  {
   "cell_type": "code",
   "execution_count": 5,
   "id": "b71da939",
   "metadata": {},
   "outputs": [],
   "source": [
    "function_name       = \"Heaviside 1D\""
   ]
  },
  {
   "cell_type": "code",
   "execution_count": 6,
   "id": "1696e9d8",
   "metadata": {},
   "outputs": [
    {
     "name": "stdout",
     "output_type": "stream",
     "text": [
      "[[0.93830446]\n",
      " [0.24068152]\n",
      " [0.96091664]\n",
      " [0.22405765]\n",
      " [0.17642717]]\n",
      "[-1.08619352  1.12463533 -0.71739169  1.06255131  0.9377286 ]\n"
     ]
    }
   ],
   "source": [
    "function_X, function_Y = sampler          (N_function, function_name, sampler_parameters)\n",
    "X         , Y          = extract_K_samples(function_X, function_Y, N_train + N_test)\n",
    "train_X   , train_Y    = X[:N_train], Y[:N_train]\n",
    "test_X    , test_Y     = X[N_train:], Y[N_train:]\n",
    "print(train_X[:5])\n",
    "print(train_Y[:5])"
   ]
  },
  {
   "cell_type": "markdown",
   "id": "7ee5122c",
   "metadata": {},
   "source": [
    "### 1.3 - Multimodal sinus 1D"
   ]
  },
  {
   "cell_type": "code",
   "execution_count": 7,
   "id": "c78bf9b6",
   "metadata": {},
   "outputs": [],
   "source": [
    "function_name = \"Multimodal sinus 1D\""
   ]
  },
  {
   "cell_type": "code",
   "execution_count": 8,
   "id": "aa087121",
   "metadata": {},
   "outputs": [
    {
     "name": "stdout",
     "output_type": "stream",
     "text": [
      "[[0.51117825]\n",
      " [0.13035271]\n",
      " [0.34180397]\n",
      " [0.7357491 ]\n",
      " [0.27413679]]\n",
      "[0.1400085  0.7304839  0.83820039 0.17812637 0.98852226]\n"
     ]
    }
   ],
   "source": [
    "function_X, function_Y = sampler          (N_function, function_name, sampler_parameters)\n",
    "X         , Y          = extract_K_samples(function_X, function_Y, N_train + N_test)\n",
    "train_X   , train_Y    = X[:N_train], Y[:N_train]\n",
    "test_X    , test_Y     = X[N_train:], Y[N_train:]\n",
    "print(train_X[:5])\n",
    "print(train_Y[:5])"
   ]
  },
  {
   "cell_type": "markdown",
   "id": "71f11244",
   "metadata": {},
   "source": [
    "### 1.4 - Noisy sinus 1D"
   ]
  },
  {
   "cell_type": "code",
   "execution_count": 9,
   "id": "d90328f2",
   "metadata": {},
   "outputs": [],
   "source": [
    "function_name = \"Noisy sinus 1D\""
   ]
  },
  {
   "cell_type": "code",
   "execution_count": 10,
   "id": "98dcb453",
   "metadata": {},
   "outputs": [
    {
     "name": "stdout",
     "output_type": "stream",
     "text": [
      "[[0.98880766]\n",
      " [0.84035979]\n",
      " [0.1938735 ]\n",
      " [0.64260131]\n",
      " [0.5599143 ]]\n",
      "[ 0.21851645 -0.88330548  0.94287073 -1.1127132  -0.40670658]\n"
     ]
    }
   ],
   "source": [
    "function_X, function_Y = sampler          (N_function, function_name, sampler_parameters)\n",
    "X         , Y          = extract_K_samples(function_X, function_Y, N_train + N_test)\n",
    "train_X   , train_Y    = X[:N_train], Y[:N_train]\n",
    "test_X    , test_Y     = X[N_train:], Y[N_train:]\n",
    "print(train_X[:5])\n",
    "print(train_Y[:5])"
   ]
  },
  {
   "cell_type": "markdown",
   "id": "71a2d3a6",
   "metadata": {},
   "source": [
    "### 1.5 - Sinus times x 1D"
   ]
  },
  {
   "cell_type": "code",
   "execution_count": 11,
   "id": "7f9272a1",
   "metadata": {},
   "outputs": [],
   "source": [
    "function_name = \"Sinus times x 1D\""
   ]
  },
  {
   "cell_type": "code",
   "execution_count": 12,
   "id": "4ecae507",
   "metadata": {},
   "outputs": [
    {
     "name": "stdout",
     "output_type": "stream",
     "text": [
      "[[0.04407883]\n",
      " [0.81295718]\n",
      " [0.70881715]\n",
      " [0.19032571]\n",
      " [0.07783341]]\n",
      "[ 0.0120524  -0.75017773 -0.68521932  0.17710338  0.03656459]\n"
     ]
    }
   ],
   "source": [
    "function_X, function_Y = sampler          (N_function, function_name, sampler_parameters)\n",
    "X         , Y          = extract_K_samples(function_X, function_Y, N_train + N_test)\n",
    "train_X   , train_Y    = X[:N_train], Y[:N_train]\n",
    "test_X    , test_Y     = X[N_train:], Y[N_train:]\n",
    "print(train_X[:5])\n",
    "print(train_Y[:5])"
   ]
  },
  {
   "cell_type": "markdown",
   "id": "d48b0d1a",
   "metadata": {},
   "source": [
    "### 1.6 - Sinus cardinal 1D"
   ]
  },
  {
   "cell_type": "code",
   "execution_count": 13,
   "id": "38a8236c",
   "metadata": {},
   "outputs": [],
   "source": [
    "function_name = \"Sinus cardinal 1D\""
   ]
  },
  {
   "cell_type": "code",
   "execution_count": 14,
   "id": "08c5f649",
   "metadata": {},
   "outputs": [
    {
     "name": "stdout",
     "output_type": "stream",
     "text": [
      "[[0.233312  ]\n",
      " [0.67788885]\n",
      " [0.92705416]\n",
      " [0.63854358]\n",
      " [0.77816551]]\n",
      "[ 4.26256639 -1.32632327 -0.47726775 -1.19748762 -1.2650031 ]\n"
     ]
    }
   ],
   "source": [
    "function_X, function_Y = sampler          (N_function, function_name, sampler_parameters)\n",
    "X         , Y          = extract_K_samples(function_X, function_Y, N_train + N_test)\n",
    "train_X   , train_Y    = X[:N_train], Y[:N_train]\n",
    "test_X    , test_Y     = X[N_train:], Y[N_train:]\n",
    "print(train_X[:5])\n",
    "print(train_Y[:5])"
   ]
  },
  {
   "cell_type": "markdown",
   "id": "87938a1f",
   "metadata": {},
   "source": [
    "### 1.7 - Slide function"
   ]
  },
  {
   "cell_type": "code",
   "execution_count": 15,
   "id": "61507fee",
   "metadata": {},
   "outputs": [],
   "source": [
    "function_name = \"Slide function\""
   ]
  },
  {
   "cell_type": "code",
   "execution_count": 16,
   "id": "5e379dd3",
   "metadata": {},
   "outputs": [
    {
     "name": "stdout",
     "output_type": "stream",
     "text": [
      "[[0.99546174]\n",
      " [0.87983682]\n",
      " [0.97602487]\n",
      " [0.31691319]\n",
      " [0.0206449 ]]\n",
      "[-0.48728348 -0.47859867 -0.48687007 -0.23781904 -0.01648782]\n"
     ]
    }
   ],
   "source": [
    "function_X, function_Y = sampler          (N_function, function_name, sampler_parameters)\n",
    "X         , Y          = extract_K_samples(function_X, function_Y, N_train + N_test)\n",
    "train_X   , train_Y    = X[:N_train], Y[:N_train]\n",
    "test_X    , test_Y     = X[N_train:], Y[N_train:]\n",
    "print(train_X[:5])\n",
    "print(train_Y[:5])"
   ]
  },
  {
   "cell_type": "markdown",
   "id": "0c16e1c2-9864-4562-95c3-5402efc0f21c",
   "metadata": {},
   "source": [
    "### 1.8 - Two bumps"
   ]
  },
  {
   "cell_type": "code",
   "execution_count": 17,
   "id": "e3b4cc2a-fac2-463f-8890-333cb87aa17d",
   "metadata": {},
   "outputs": [],
   "source": [
    "function_name = \"Two bumps\""
   ]
  },
  {
   "cell_type": "code",
   "execution_count": 18,
   "id": "8c7e2e5f-599f-417f-8f27-2f260b7fbea5",
   "metadata": {},
   "outputs": [
    {
     "name": "stdout",
     "output_type": "stream",
     "text": [
      "[[0.29207424]\n",
      " [0.76143453]\n",
      " [0.37134045]\n",
      " [0.30820095]\n",
      " [0.76546699]]\n",
      "[1.08765435 0.17629547 0.51664021 0.99890974 0.20191216]\n"
     ]
    }
   ],
   "source": [
    "function_X, function_Y = sampler          (N_function, function_name, sampler_parameters)\n",
    "X         , Y          = extract_K_samples(function_X, function_Y, N_train + N_test)\n",
    "train_X   , train_Y    = X[:N_train], Y[:N_train]\n",
    "test_X    , test_Y     = X[N_train:], Y[N_train:]\n",
    "print(train_X[:5])\n",
    "print(train_Y[:5])"
   ]
  },
  {
   "cell_type": "markdown",
   "id": "45c632df-d940-4390-ab24-5d4ab5a558c5",
   "metadata": {},
   "source": [
    "# 2 - 2D Synthetic datasets"
   ]
  },
  {
   "cell_type": "markdown",
   "id": "0d18b5f5-9b1d-4cc9-b9a3-8d3c31481d2b",
   "metadata": {},
   "source": [
    "### 2.1 - Power sinus 2D"
   ]
  },
  {
   "cell_type": "code",
   "execution_count": 19,
   "id": "3942c4b9-4d30-4ce8-99ae-e363d41539ca",
   "metadata": {},
   "outputs": [],
   "source": [
    "function_name = \"Power sinus 2D\""
   ]
  },
  {
   "cell_type": "code",
   "execution_count": 20,
   "id": "734d208a-f243-4a7e-bb12-847b59278e0a",
   "metadata": {},
   "outputs": [
    {
     "name": "stdout",
     "output_type": "stream",
     "text": [
      "[[0.36605183 0.68401477]\n",
      " [0.012821   0.73899464]\n",
      " [0.52291991 0.49694529]\n",
      " [0.0671443  0.3723069 ]\n",
      " [0.89542209 0.75486372]]\n",
      "[ 0.30941496 -0.99993493  0.1244929   0.3713284  -0.81007122]\n"
     ]
    }
   ],
   "source": [
    "function_X, function_Y = sampler          (N_function, function_name, sampler_parameters)\n",
    "X         , Y          = extract_K_samples(function_X, function_Y, N_train + N_test)\n",
    "train_X   , train_Y    = X[:N_train], Y[:N_train]\n",
    "test_X    , test_Y     = X[N_train:], Y[N_train:]\n",
    "print(train_X[:5])\n",
    "print(train_Y[:5])"
   ]
  },
  {
   "cell_type": "markdown",
   "id": "70345752-f83e-4d5b-94a6-931c0db20e71",
   "metadata": {},
   "source": [
    "### 2.2 - Heaviside 2D"
   ]
  },
  {
   "cell_type": "code",
   "execution_count": 21,
   "id": "5c8746da-3a9a-4207-8ee8-ba926ace3c19",
   "metadata": {},
   "outputs": [],
   "source": [
    "function_name       = \"Heaviside 2D\""
   ]
  },
  {
   "cell_type": "code",
   "execution_count": 22,
   "id": "bcf9f2e6-3239-4cac-89a0-271e6fadecb1",
   "metadata": {},
   "outputs": [
    {
     "name": "stdout",
     "output_type": "stream",
     "text": [
      "[[0.4808141  0.0608431 ]\n",
      " [0.62657816 0.64717669]\n",
      " [0.39655666 0.44245113]\n",
      " [0.92593395 0.14732305]\n",
      " [0.28206318 0.06555738]]\n",
      "[ 1.114277   -0.97815326  0.9123415  -1.18207091  1.07494898]\n"
     ]
    }
   ],
   "source": [
    "function_X, function_Y = sampler          (N_function, function_name, sampler_parameters)\n",
    "X         , Y          = extract_K_samples(function_X, function_Y, N_train + N_test)\n",
    "train_X   , train_Y    = X[:N_train], Y[:N_train]\n",
    "test_X    , test_Y     = X[N_train:], Y[N_train:]\n",
    "print(train_X[:5])\n",
    "print(train_Y[:5])"
   ]
  },
  {
   "cell_type": "markdown",
   "id": "6cb73f3d-36b9-4d0f-b34c-fd7ed9dd02f6",
   "metadata": {},
   "source": [
    "### 2.3 - Multimodal sinus 2D"
   ]
  },
  {
   "cell_type": "code",
   "execution_count": 23,
   "id": "10231134-bd10-4b39-9f3a-1491f068ffe0",
   "metadata": {},
   "outputs": [],
   "source": [
    "function_name = \"Multimodal sinus 2D\""
   ]
  },
  {
   "cell_type": "code",
   "execution_count": 24,
   "id": "d7551936-5e4f-4458-930e-c904d1f3e8b4",
   "metadata": {},
   "outputs": [
    {
     "name": "stdout",
     "output_type": "stream",
     "text": [
      "[[0.62807218 0.71890634]\n",
      " [0.92130478 0.23511918]\n",
      " [0.55464992 0.93356212]\n",
      " [0.5136303  0.46308121]\n",
      " [0.6317932  0.37734263]]\n",
      "[ 0.82002935  0.83207637  0.07399823 -0.14580427  0.05737055]\n"
     ]
    }
   ],
   "source": [
    "function_X, function_Y = sampler          (N_function, function_name, sampler_parameters)\n",
    "X         , Y          = extract_K_samples(function_X, function_Y, N_train + N_test)\n",
    "train_X   , train_Y    = X[:N_train], Y[:N_train]\n",
    "test_X    , test_Y     = X[N_train:], Y[N_train:]\n",
    "print(train_X[:5])\n",
    "print(train_Y[:5])"
   ]
  },
  {
   "cell_type": "markdown",
   "id": "c40744fa-f11d-4be4-8696-a6e7dd599651",
   "metadata": {},
   "source": [
    "### 2.4 - Noisy sinus 2D"
   ]
  },
  {
   "cell_type": "code",
   "execution_count": 25,
   "id": "1327bfcc-9a7a-49f7-9e11-aff54c461fa0",
   "metadata": {},
   "outputs": [],
   "source": [
    "function_name = \"Noisy sinus 2D\""
   ]
  },
  {
   "cell_type": "code",
   "execution_count": 26,
   "id": "f35c5b0e-94fe-45aa-bd6c-1804892f61d9",
   "metadata": {},
   "outputs": [
    {
     "name": "stdout",
     "output_type": "stream",
     "text": [
      "[[0.02197518 0.62050777]\n",
      " [0.52107156 0.44960096]\n",
      " [0.67740844 0.43244349]\n",
      " [0.53864424 0.99518565]\n",
      " [0.43413077 0.25745885]]\n",
      "[-1.10316931 -0.29112505  0.73575341 -0.01840208 -1.13593329]\n"
     ]
    }
   ],
   "source": [
    "function_X, function_Y = sampler          (N_function, function_name, sampler_parameters)\n",
    "X         , Y          = extract_K_samples(function_X, function_Y, N_train + N_test)\n",
    "train_X   , train_Y    = X[:N_train], Y[:N_train]\n",
    "test_X    , test_Y     = X[N_train:], Y[N_train:]\n",
    "print(train_X[:5])\n",
    "print(train_Y[:5])"
   ]
  },
  {
   "cell_type": "markdown",
   "id": "0ed68568-923d-4454-96f0-dbf5e51bf3c4",
   "metadata": {},
   "source": [
    "### 2.5 - Sinus times x 2D"
   ]
  },
  {
   "cell_type": "code",
   "execution_count": 27,
   "id": "dcf6b897-14ce-4fcc-a291-3c984302d9e6",
   "metadata": {},
   "outputs": [],
   "source": [
    "function_name = \"Sinus times x 2D\""
   ]
  },
  {
   "cell_type": "code",
   "execution_count": 28,
   "id": "fada788c-d3dc-4aa9-b7fc-4a80b0ab2511",
   "metadata": {},
   "outputs": [
    {
     "name": "stdout",
     "output_type": "stream",
     "text": [
      "[[0.40273614 0.46176701]\n",
      " [0.13016276 0.05159526]\n",
      " [0.84520986 0.45242625]\n",
      " [0.47732752 0.70288857]\n",
      " [0.99259857 0.68229524]]\n",
      "[-0.65025499  0.16530436  1.23994478  1.06857274 -1.49183359]\n"
     ]
    }
   ],
   "source": [
    "function_X, function_Y = sampler          (N_function, function_name, sampler_parameters)\n",
    "X         , Y          = extract_K_samples(function_X, function_Y, N_train + N_test)\n",
    "train_X   , train_Y    = X[:N_train], Y[:N_train]\n",
    "test_X    , test_Y     = X[N_train:], Y[N_train:]\n",
    "print(train_X[:5])\n",
    "print(train_Y[:5])"
   ]
  },
  {
   "cell_type": "markdown",
   "id": "590c10fb-f8b6-413f-942f-240e350b0184",
   "metadata": {},
   "source": [
    "### 2.6 - Sinus cardinal 2D"
   ]
  },
  {
   "cell_type": "code",
   "execution_count": 29,
   "id": "c60ee868-c62e-4aba-a950-0b10843f05b6",
   "metadata": {},
   "outputs": [],
   "source": [
    "function_name = \"Sinus cardinal 2D\""
   ]
  },
  {
   "cell_type": "code",
   "execution_count": 30,
   "id": "0691af64-b4ff-4c96-9f4c-facfbb230ff0",
   "metadata": {},
   "outputs": [
    {
     "name": "stdout",
     "output_type": "stream",
     "text": [
      "[[0.49415186 0.50353314]\n",
      " [0.26224381 0.83861757]\n",
      " [0.2761217  0.37947652]\n",
      " [0.28465163 0.7212516 ]\n",
      " [0.88890419 0.26154255]]\n",
      "[-0.01457881  0.5379017  -1.2647799   0.03686498  0.70465122]\n"
     ]
    }
   ],
   "source": [
    "function_X, function_Y = sampler          (N_function, function_name, sampler_parameters)\n",
    "X         , Y          = extract_K_samples(function_X, function_Y, N_train + N_test)\n",
    "train_X   , train_Y    = X[:N_train], Y[:N_train]\n",
    "test_X    , test_Y     = X[N_train:], Y[N_train:]\n",
    "print(train_X[:5])\n",
    "print(train_Y[:5])"
   ]
  },
  {
   "cell_type": "markdown",
   "id": "defe0333",
   "metadata": {},
   "source": [
    "# 3 - Gaussian process trajectory"
   ]
  },
  {
   "cell_type": "code",
   "execution_count": 31,
   "id": "b36ed029-4d10-4da8-beba-63260375526c",
   "metadata": {},
   "outputs": [],
   "source": [
    "function_name = \"Gaussian process trajectory\""
   ]
  },
  {
   "cell_type": "code",
   "execution_count": 32,
   "id": "435a9001-17a7-4141-8971-53a874f4b41d",
   "metadata": {},
   "outputs": [
    {
     "name": "stdout",
     "output_type": "stream",
     "text": [
      "[[0.60865154]\n",
      " [0.50982679]\n",
      " [0.78574573]\n",
      " [0.70728209]\n",
      " [0.08968428]]\n",
      "[-1.77081123 -1.72089056 -1.83289727 -1.81181915 -1.55312595]\n"
     ]
    }
   ],
   "source": [
    "function_X, function_Y = sampler          (N_function, function_name, sampler_parameters)\n",
    "X         , Y          = extract_K_samples(function_X, function_Y, N_train + N_test)\n",
    "train_X   , train_Y    = X[:N_train], Y[:N_train]\n",
    "test_X    , test_Y     = X[N_train:], Y[N_train:]\n",
    "print(train_X[:5])\n",
    "print(train_Y[:5])"
   ]
  },
  {
   "cell_type": "markdown",
   "id": "1cc0c65d-11f0-4dea-8a75-5d8f023ac5ee",
   "metadata": {},
   "source": [
    "# 4 - UCI machine learning datasets"
   ]
  },
  {
   "cell_type": "markdown",
   "id": "fe180dca",
   "metadata": {},
   "source": [
    "### 4.1 - Concrete compressive strength - $N=1030$ and $d=8$"
   ]
  },
  {
   "cell_type": "code",
   "execution_count": 33,
   "id": "ac9622c1",
   "metadata": {},
   "outputs": [],
   "source": [
    "function_name = \"Concrete compressive strength\""
   ]
  },
  {
   "cell_type": "code",
   "execution_count": 34,
   "id": "f5317369",
   "metadata": {},
   "outputs": [
    {
     "name": "stdout",
     "output_type": "stream",
     "text": [
      "[[ 349.     0.     0.   192.     0.  1047.   806.     7. ]\n",
      " [ 141.3  212.     0.   203.5    0.   971.8  748.5   90. ]\n",
      " [ 150.9    0.   183.9  166.6   11.6  991.2  772.2   28. ]\n",
      " [ 305.3  203.5    0.   203.5    0.   965.4  631.     3. ]\n",
      " [ 475.     0.    59.   142.     1.9 1098.   641.    28. ]]\n",
      "[18.13 39.66 15.57 14.14 57.23]\n"
     ]
    }
   ],
   "source": [
    "function_X, function_Y = sampler          (N_function, function_name, sampler_parameters)\n",
    "X         , Y          = extract_K_samples(function_X, function_Y, N_train + N_test)\n",
    "train_X   , train_Y    = X[:N_train], Y[:N_train]\n",
    "test_X    , test_Y     = X[N_train:], Y[N_train:]\n",
    "print(train_X[:5])\n",
    "print(train_Y[:5])"
   ]
  },
  {
   "cell_type": "markdown",
   "id": "bb74516c",
   "metadata": {},
   "source": [
    "### 4.2 - Energy efficiency - $N=768$ and $d=8$"
   ]
  },
  {
   "cell_type": "code",
   "execution_count": 35,
   "id": "d983845a",
   "metadata": {},
   "outputs": [],
   "source": [
    "function_name = \"Energy efficiency\""
   ]
  },
  {
   "cell_type": "code",
   "execution_count": 36,
   "id": "9229cce4",
   "metadata": {},
   "outputs": [
    {
     "name": "stdout",
     "output_type": "stream",
     "text": [
      "[[6.6000e-01 7.5950e+02 3.1850e+02 2.2050e+02 3.5000e+00 2.0000e+00\n",
      "  2.5000e-01 1.0000e+00]\n",
      " [8.6000e-01 5.8800e+02 2.9400e+02 1.4700e+02 7.0000e+00 3.0000e+00\n",
      "  1.0000e-01 1.0000e+00]\n",
      " [8.6000e-01 5.8800e+02 2.9400e+02 1.4700e+02 7.0000e+00 3.0000e+00\n",
      "  4.0000e-01 4.0000e+00]\n",
      " [9.8000e-01 5.1450e+02 2.9400e+02 1.1025e+02 7.0000e+00 4.0000e+00\n",
      "  1.0000e-01 4.0000e+00]\n",
      " [8.6000e-01 5.8800e+02 2.9400e+02 1.4700e+02 7.0000e+00 4.0000e+00\n",
      "  2.5000e-01 5.0000e+00]]\n",
      "[13.17 26.91 31.66 24.04 28.31]\n"
     ]
    }
   ],
   "source": [
    "function_X, function_Y = sampler          (N_function, function_name, sampler_parameters)\n",
    "X         , Y          = extract_K_samples(function_X, function_Y, N_train + N_test)\n",
    "train_X   , train_Y    = X[:N_train], Y[:N_train]\n",
    "test_X    , test_Y     = X[N_train:], Y[N_train:]\n",
    "print(train_X[:5])\n",
    "print(train_Y[:5])"
   ]
  },
  {
   "cell_type": "markdown",
   "id": "2ff78806",
   "metadata": {},
   "source": [
    "### 4.3 - Auto mpg - $N=398$ and $d=7$"
   ]
  },
  {
   "cell_type": "code",
   "execution_count": 37,
   "id": "34d8faf0",
   "metadata": {},
   "outputs": [],
   "source": [
    "function_name = \"Auto mpg\""
   ]
  },
  {
   "cell_type": "code",
   "execution_count": 38,
   "id": "978c7a0c",
   "metadata": {},
   "outputs": [
    {
     "name": "stdout",
     "output_type": "stream",
     "text": [
      "[[3.180e+02 8.000e+00 1.500e+02 3.940e+03 1.320e+01 7.600e+01 1.000e+00]\n",
      " [3.050e+02 8.000e+00 1.450e+02 3.425e+03 1.320e+01 7.800e+01 1.000e+00]\n",
      " [1.080e+02 4.000e+00 9.300e+01 2.391e+03 1.550e+01 7.400e+01 3.000e+00]\n",
      " [1.080e+02 4.000e+00 7.500e+01 2.350e+03 1.680e+01 8.100e+01 3.000e+00]\n",
      " [1.990e+02 6.000e+00 9.700e+01 2.774e+03 1.550e+01 7.000e+01 1.000e+00]]\n",
      "[13.  19.2 26.  32.4 18. ]\n"
     ]
    }
   ],
   "source": [
    "function_X, function_Y = sampler          (N_function, function_name, sampler_parameters)\n",
    "X         , Y          = extract_K_samples(function_X, function_Y, N_train + N_test)\n",
    "train_X   , train_Y    = X[:N_train], Y[:N_train]\n",
    "test_X    , test_Y     = X[N_train:], Y[N_train:]\n",
    "print(train_X[:5])\n",
    "print(train_Y[:5])"
   ]
  },
  {
   "cell_type": "markdown",
   "id": "97422dae",
   "metadata": {},
   "source": [
    "### 4.4 - Combined cycle power plant - $N=9568$ and $d=4$"
   ]
  },
  {
   "cell_type": "code",
   "execution_count": 39,
   "id": "e5560c80",
   "metadata": {},
   "outputs": [],
   "source": [
    "function_name = \"Combined cycle power plant\""
   ]
  },
  {
   "cell_type": "code",
   "execution_count": 40,
   "id": "1736c7fd",
   "metadata": {},
   "outputs": [
    {
     "name": "stdout",
     "output_type": "stream",
     "text": [
      "[[  11.93   41.38 1021.76   57.63]\n",
      " [  11.44   34.03 1018.57   74.06]\n",
      " [   5.76   40.07 1013.22   62.99]\n",
      " [  13.65   44.6  1017.99   87.04]\n",
      " [  21.83   62.91 1011.07   91.34]]\n",
      "[473.88 476.06 494.67 466.06 443.76]\n"
     ]
    }
   ],
   "source": [
    "function_X, function_Y = sampler          (N_function, function_name, sampler_parameters)\n",
    "X         , Y          = extract_K_samples(function_X, function_Y, N_train + N_test)\n",
    "train_X   , train_Y    = X[:N_train], Y[:N_train]\n",
    "test_X    , test_Y     = X[N_train:], Y[N_train:]\n",
    "print(train_X[:5])\n",
    "print(train_Y[:5])"
   ]
  },
  {
   "cell_type": "markdown",
   "id": "a7b26a00",
   "metadata": {},
   "source": [
    "### 4.5 - Airfoil self-noise - $N=1503$ and $d=4$"
   ]
  },
  {
   "cell_type": "code",
   "execution_count": 41,
   "id": "b65185aa",
   "metadata": {},
   "outputs": [],
   "source": [
    "function_name = \"Airfoil self-noise\""
   ]
  },
  {
   "cell_type": "code",
   "execution_count": 42,
   "id": "45e4434e",
   "metadata": {},
   "outputs": [
    {
     "name": "stdout",
     "output_type": "stream",
     "text": [
      "[[5.00000e+03 8.90000e+00 1.01600e-01 3.96000e+01 1.24596e-02]\n",
      " [6.30000e+02 2.22000e+01 2.54000e-02 3.96000e+01 2.29028e-02]\n",
      " [3.15000e+02 0.00000e+00 3.04800e-01 3.17000e+01 3.31266e-03]\n",
      " [2.00000e+03 5.40000e+00 1.52400e-01 3.96000e+01 4.85029e-03]\n",
      " [2.00000e+03 9.90000e+00 1.52400e-01 5.55000e+01 2.08438e-02]]\n",
      "[113.08  137.026 122.765 124.647 119.505]\n"
     ]
    }
   ],
   "source": [
    "function_X, function_Y = sampler          (N_function, function_name, sampler_parameters)\n",
    "X         , Y          = extract_K_samples(function_X, function_Y, N_train + N_test)\n",
    "train_X   , train_Y    = X[:N_train], Y[:N_train]\n",
    "test_X    , test_Y     = X[N_train:], Y[N_train:]\n",
    "print(train_X[:5])\n",
    "print(train_Y[:5])"
   ]
  },
  {
   "cell_type": "markdown",
   "id": "84cfaa57-5686-4ffc-bec4-02d485980c51",
   "metadata": {},
   "source": [
    "# 5 - Literature datasets 2D"
   ]
  },
  {
   "cell_type": "markdown",
   "id": "4c3fe6fd-c43f-4670-ba1d-c8b8f134fb49",
   "metadata": {},
   "source": [
    "### 5.1 - Branin"
   ]
  },
  {
   "cell_type": "code",
   "execution_count": 43,
   "id": "f35a34e5-c7f8-404e-924a-06e45832ec92",
   "metadata": {},
   "outputs": [],
   "source": [
    "function_name = \"Branin\""
   ]
  },
  {
   "cell_type": "code",
   "execution_count": 44,
   "id": "13638a20-4ee9-4a2f-a9de-3bbd8d88b36c",
   "metadata": {},
   "outputs": [
    {
     "name": "stdout",
     "output_type": "stream",
     "text": [
      "[[0.87199828 0.14866696]\n",
      " [0.06062317 0.65538147]\n",
      " [0.50037372 0.36845341]\n",
      " [0.82582978 0.69183927]\n",
      " [0.8409415  0.44585414]]\n",
      "[ 8.27841959 27.84695461  9.5845178  96.85461173 40.54748024]\n"
     ]
    }
   ],
   "source": [
    "function_X, function_Y = sampler          (N_function, function_name, sampler_parameters)\n",
    "X         , Y          = extract_K_samples(function_X, function_Y, N_train + N_test)\n",
    "train_X   , train_Y    = X[:N_train], Y[:N_train]\n",
    "test_X    , test_Y     = X[N_train:], Y[N_train:]\n",
    "print(train_X[:5])\n",
    "print(train_Y[:5])"
   ]
  },
  {
   "cell_type": "markdown",
   "id": "9c0bb629-acc4-409c-bfc4-9ea79cc1a0e5",
   "metadata": {},
   "source": [
    "### 5.2 - Branin hoo"
   ]
  },
  {
   "cell_type": "code",
   "execution_count": 45,
   "id": "dda59fbc-b6a9-4c31-b15f-71095e559b9f",
   "metadata": {},
   "outputs": [],
   "source": [
    "function_name = \"Branin hoo\""
   ]
  },
  {
   "cell_type": "code",
   "execution_count": 46,
   "id": "263dbd1a-4323-4f78-b74a-eac35943e7e7",
   "metadata": {},
   "outputs": [
    {
     "name": "stdout",
     "output_type": "stream",
     "text": [
      "[[0.05257513 0.19516718]\n",
      " [0.48946159 0.49115926]\n",
      " [0.63929669 0.50164285]\n",
      " [0.02619709 0.33895791]\n",
      " [0.71547454 0.62579211]]\n",
      "[ 1.85125893 -0.62105532 -0.16709008  1.44288808  0.60989574]\n"
     ]
    }
   ],
   "source": [
    "function_X, function_Y = sampler          (N_function, function_name, sampler_parameters)\n",
    "X         , Y          = extract_K_samples(function_X, function_Y, N_train + N_test)\n",
    "train_X   , train_Y    = X[:N_train], Y[:N_train]\n",
    "test_X    , test_Y     = X[N_train:], Y[N_train:]\n",
    "print(train_X[:5])\n",
    "print(train_Y[:5])"
   ]
  },
  {
   "cell_type": "markdown",
   "id": "d7cf22b4-9ebb-4075-a9d0-4349522ed6c1",
   "metadata": {},
   "source": [
    "### 5.3 - Goldstein"
   ]
  },
  {
   "cell_type": "code",
   "execution_count": 47,
   "id": "e399fdaf-14c8-4c6e-a0dc-1c0bacf749a9",
   "metadata": {},
   "outputs": [],
   "source": [
    "function_name = \"Goldstein\""
   ]
  },
  {
   "cell_type": "code",
   "execution_count": 48,
   "id": "e1bbf03b-687e-4a4c-9c50-3770a9cba6e6",
   "metadata": {},
   "outputs": [
    {
     "name": "stdout",
     "output_type": "stream",
     "text": [
      "[[0.57587589 0.07010333]\n",
      " [0.33486232 0.16553155]\n",
      " [0.86446577 0.88011575]\n",
      " [0.44352234 0.67169143]\n",
      " [0.25189963 0.9542801 ]]\n",
      "[7.68574796e+03 3.49614116e+02 1.08326082e+04 1.50565183e+04\n",
      " 5.47160170e+05]\n"
     ]
    }
   ],
   "source": [
    "function_X, function_Y = sampler          (N_function, function_name, sampler_parameters)\n",
    "X         , Y          = extract_K_samples(function_X, function_Y, N_train + N_test)\n",
    "train_X   , train_Y    = X[:N_train], Y[:N_train]\n",
    "test_X    , test_Y     = X[N_train:], Y[N_train:]\n",
    "print(train_X[:5])\n",
    "print(train_Y[:5])"
   ]
  },
  {
   "cell_type": "markdown",
   "id": "1e2f3781-61fb-4743-92a6-78e240fb8fc5",
   "metadata": {},
   "source": [
    "### 5.4 - Goldstein price"
   ]
  },
  {
   "cell_type": "code",
   "execution_count": 49,
   "id": "7ed09bfb-2ad4-4d34-86e7-91decd97e105",
   "metadata": {},
   "outputs": [],
   "source": [
    "function_name = \"Goldstein price\""
   ]
  },
  {
   "cell_type": "code",
   "execution_count": 50,
   "id": "69bf9a42-f4c7-447a-8cc8-c22827ad0c36",
   "metadata": {},
   "outputs": [
    {
     "name": "stdout",
     "output_type": "stream",
     "text": [
      "[[0.00206197 0.54511762]\n",
      " [0.72017102 0.11426736]\n",
      " [0.83198913 0.14335659]\n",
      " [0.71555694 0.31414643]\n",
      " [0.25431863 0.89282525]]\n",
      "[ 1.21984743  0.06423523  0.82315179 -0.63788341  1.6852451 ]\n"
     ]
    }
   ],
   "source": [
    "function_X, function_Y = sampler          (N_function, function_name, sampler_parameters)\n",
    "X         , Y          = extract_K_samples(function_X, function_Y, N_train + N_test)\n",
    "train_X   , train_Y    = X[:N_train], Y[:N_train]\n",
    "test_X    , test_Y     = X[N_train:], Y[N_train:]\n",
    "print(train_X[:5])\n",
    "print(train_Y[:5])"
   ]
  },
  {
   "cell_type": "markdown",
   "id": "93de11dd-5356-4e55-96c9-fcfa0af76ac4",
   "metadata": {},
   "source": [
    "### 5.5 - Iooss1"
   ]
  },
  {
   "cell_type": "code",
   "execution_count": 51,
   "id": "7f498f48-82e0-479a-9d77-23f297b151fb",
   "metadata": {},
   "outputs": [],
   "source": [
    "function_name = \"Iooss1\""
   ]
  },
  {
   "cell_type": "code",
   "execution_count": 52,
   "id": "5aa7c8e5-04fa-41dc-b9fc-d1cc4943793f",
   "metadata": {},
   "outputs": [
    {
     "name": "stdout",
     "output_type": "stream",
     "text": [
      "[[0.34328755 0.12872744]\n",
      " [0.86051216 0.65539784]\n",
      " [0.00872617 0.04223784]\n",
      " [0.78536766 0.46116125]\n",
      " [0.20367506 0.62738004]]\n",
      "[0.27323933 1.50016017 1.8847338  1.96874601 1.31207403]\n"
     ]
    }
   ],
   "source": [
    "function_X, function_Y = sampler          (N_function, function_name, sampler_parameters)\n",
    "X         , Y          = extract_K_samples(function_X, function_Y, N_train + N_test)\n",
    "train_X   , train_Y    = X[:N_train], Y[:N_train]\n",
    "test_X    , test_Y     = X[N_train:], Y[N_train:]\n",
    "print(train_X[:5])\n",
    "print(train_Y[:5])"
   ]
  },
  {
   "cell_type": "markdown",
   "id": "9e8bb75e-703b-4b70-95fc-7269bb5b3f5d",
   "metadata": {},
   "source": [
    "### 5.6 - Iooss2"
   ]
  },
  {
   "cell_type": "code",
   "execution_count": 53,
   "id": "1fb6acec-aeaa-45c5-9b39-9b7ab387c9ab",
   "metadata": {},
   "outputs": [],
   "source": [
    "function_name = \"Iooss2\""
   ]
  },
  {
   "cell_type": "code",
   "execution_count": 54,
   "id": "d02dff10-ff12-47a2-9138-289546192511",
   "metadata": {},
   "outputs": [
    {
     "name": "stdout",
     "output_type": "stream",
     "text": [
      "[[0.23059939 0.31474229]\n",
      " [0.12189128 0.30313537]\n",
      " [0.22502544 0.91242456]\n",
      " [0.61915597 0.97644473]\n",
      " [0.81661131 0.40907074]]\n",
      "[ 0.07855648 -0.15537136  0.11427084  0.9740341   1.28950982]\n"
     ]
    }
   ],
   "source": [
    "function_X, function_Y = sampler          (N_function, function_name, sampler_parameters)\n",
    "X         , Y          = extract_K_samples(function_X, function_Y, N_train + N_test)\n",
    "train_X   , train_Y    = X[:N_train], Y[:N_train]\n",
    "test_X    , test_Y     = X[N_train:], Y[N_train:]\n",
    "print(train_X[:5])\n",
    "print(train_Y[:5])"
   ]
  },
  {
   "cell_type": "markdown",
   "id": "e5d681a6-478f-4a40-8f2e-5f539d2e5baa",
   "metadata": {},
   "source": [
    "### 5.7 - Two input toy"
   ]
  },
  {
   "cell_type": "code",
   "execution_count": 55,
   "id": "e167b00a-9ad4-4d79-b44c-07258ad104a6",
   "metadata": {},
   "outputs": [],
   "source": [
    "function_name = \"Two input toy\""
   ]
  },
  {
   "cell_type": "code",
   "execution_count": 56,
   "id": "1a222415-86b2-4654-8b23-b09a7af5544d",
   "metadata": {},
   "outputs": [
    {
     "name": "stdout",
     "output_type": "stream",
     "text": [
      "[[0.52522007 0.41758849]\n",
      " [0.32131147 0.5463326 ]\n",
      " [0.70892377 0.14876157]\n",
      " [0.51958408 0.01782649]\n",
      " [0.09040759 0.79838026]]\n",
      "[ 8.06376422  7.90236058 10.33833874 11.58770403  5.05537373]\n"
     ]
    }
   ],
   "source": [
    "function_X, function_Y = sampler          (N_function, function_name, sampler_parameters)\n",
    "X         , Y          = extract_K_samples(function_X, function_Y, N_train + N_test)\n",
    "train_X   , train_Y    = X[:N_train], Y[:N_train]\n",
    "test_X    , test_Y     = X[N_train:], Y[N_train:]\n",
    "print(train_X[:5])\n",
    "print(train_Y[:5])"
   ]
  },
  {
   "cell_type": "markdown",
   "id": "6df1c608-cdbb-475b-8b66-a7e958910e4e",
   "metadata": {},
   "source": [
    "### 5.8 - Highly non linear"
   ]
  },
  {
   "cell_type": "code",
   "execution_count": 57,
   "id": "32094a2d-fce4-4fb3-abb2-0dddf746db85",
   "metadata": {},
   "outputs": [],
   "source": [
    "function_name = \"Highly non linear\""
   ]
  },
  {
   "cell_type": "code",
   "execution_count": 58,
   "id": "26683927-d454-4ac6-a1eb-8d9f6d31104a",
   "metadata": {},
   "outputs": [
    {
     "name": "stdout",
     "output_type": "stream",
     "text": [
      "[[0.94533106 0.28295287]\n",
      " [0.50191773 0.82335173]\n",
      " [0.40854363 0.36830317]\n",
      " [0.02419042 0.08848718]\n",
      " [0.59619356 0.75139803]]\n",
      "[7.60236513 8.87298237 8.27481615 0.48684737 8.70890965]\n"
     ]
    }
   ],
   "source": [
    "function_X, function_Y = sampler          (N_function, function_name, sampler_parameters)\n",
    "X         , Y          = extract_K_samples(function_X, function_Y, N_train + N_test)\n",
    "train_X   , train_Y    = X[:N_train], Y[:N_train]\n",
    "test_X    , test_Y     = X[N_train:], Y[N_train:]\n",
    "print(train_X[:5])\n",
    "print(train_Y[:5])"
   ]
  },
  {
   "cell_type": "markdown",
   "id": "a32609f4-e478-466c-ac15-806ca250fdaf",
   "metadata": {},
   "source": [
    "### 5.9 - Mystery"
   ]
  },
  {
   "cell_type": "code",
   "execution_count": 59,
   "id": "e5b714ff-4a78-4a2f-8990-f8d8ab170336",
   "metadata": {},
   "outputs": [],
   "source": [
    "function_name = \"Mystery\""
   ]
  },
  {
   "cell_type": "code",
   "execution_count": 60,
   "id": "a561cc2f-0b8e-4951-b096-bedaf14d6cf4",
   "metadata": {},
   "outputs": [
    {
     "name": "stdout",
     "output_type": "stream",
     "text": [
      "[[0.46729536 0.14942672]\n",
      " [0.95023082 0.92998525]\n",
      " [0.64329386 0.15810989]\n",
      " [0.68036139 0.50414455]\n",
      " [0.94022904 0.05115805]]\n",
      "[10.07743798 16.67422769 10.4647347  -0.962847   12.86770282]\n"
     ]
    }
   ],
   "source": [
    "function_X, function_Y = sampler          (N_function, function_name, sampler_parameters)\n",
    "X         , Y          = extract_K_samples(function_X, function_Y, N_train + N_test)\n",
    "train_X   , train_Y    = X[:N_train], Y[:N_train]\n",
    "test_X    , test_Y     = X[N_train:], Y[N_train:]\n",
    "print(train_X[:5])\n",
    "print(train_Y[:5])"
   ]
  },
  {
   "cell_type": "markdown",
   "id": "23de8f0d-10ca-4f78-ad29-1df3e8d35df6",
   "metadata": {},
   "source": [
    "### 5.10 - Six hump camelback"
   ]
  },
  {
   "cell_type": "code",
   "execution_count": 61,
   "id": "672421f4-c465-4c3a-b873-b5617571ff05",
   "metadata": {},
   "outputs": [],
   "source": [
    "function_name = \"Six hump camelback\""
   ]
  },
  {
   "cell_type": "code",
   "execution_count": 62,
   "id": "11668eec-2f42-446f-af2f-2877938c6768",
   "metadata": {},
   "outputs": [
    {
     "name": "stdout",
     "output_type": "stream",
     "text": [
      "[[0.15925719 0.6359678 ]\n",
      " [0.18017247 0.1440425 ]\n",
      " [0.9340544  0.8776928 ]\n",
      " [0.59638996 0.04817399]\n",
      " [0.73240504 0.54049417]]\n",
      "[ 1.67604203  2.29376347  2.43742503 -0.3981894   2.15278963]\n"
     ]
    }
   ],
   "source": [
    "function_X, function_Y = sampler          (N_function, function_name, sampler_parameters)\n",
    "X         , Y          = extract_K_samples(function_X, function_Y, N_train + N_test)\n",
    "train_X   , train_Y    = X[:N_train], Y[:N_train]\n",
    "test_X    , test_Y     = X[N_train:], Y[N_train:]\n",
    "print(train_X[:5])\n",
    "print(train_Y[:5])"
   ]
  },
  {
   "cell_type": "markdown",
   "id": "da72bcda-2950-489c-87f7-9afe98031f77",
   "metadata": {},
   "source": [
    "# 6 - Literature datasets nD"
   ]
  },
  {
   "cell_type": "markdown",
   "id": "18b55c84-35bf-4ed1-a2ea-a074ec1fa538",
   "metadata": {},
   "source": [
    "### 6.1 - Morokoff & Caflisch 1"
   ]
  },
  {
   "cell_type": "code",
   "execution_count": 63,
   "id": "f3df378f-4d4d-4c25-bdb0-c8e2dd23e85e",
   "metadata": {},
   "outputs": [],
   "source": [
    "function_name = \"Morokoff & caflisch 1\""
   ]
  },
  {
   "cell_type": "code",
   "execution_count": 64,
   "id": "aa1b8a15-e377-4c09-bef6-14f75c0cedf5",
   "metadata": {},
   "outputs": [
    {
     "name": "stdout",
     "output_type": "stream",
     "text": [
      "[[0.68985016 0.4738009 ]\n",
      " [0.35756267 0.49971618]\n",
      " [0.01109108 0.68297992]\n",
      " [0.30676094 0.66477147]\n",
      " [0.28142718 0.36033298]]\n",
      "[1.28634613 0.95108714 0.19582736 1.01605856 0.71650223]\n"
     ]
    }
   ],
   "source": [
    "function_X, function_Y = sampler          (N_function, function_name, sampler_parameters)\n",
    "X         , Y          = extract_K_samples(function_X, function_Y, N_train + N_test)\n",
    "train_X   , train_Y    = X[:N_train], Y[:N_train]\n",
    "test_X    , test_Y     = X[N_train:], Y[N_train:]\n",
    "print(train_X[:5])\n",
    "print(train_Y[:5])"
   ]
  },
  {
   "cell_type": "markdown",
   "id": "e970140b-d355-4441-9d05-5789dc5f3c9a",
   "metadata": {},
   "source": [
    "### 6.2 - Morokoff & Caflisch 2"
   ]
  },
  {
   "cell_type": "code",
   "execution_count": 65,
   "id": "01ee012c-5894-461f-98f0-d4071e234208",
   "metadata": {},
   "outputs": [],
   "source": [
    "function_name = \"Morokoff & caflisch 2\""
   ]
  },
  {
   "cell_type": "code",
   "execution_count": 66,
   "id": "3701c76e-14f0-4794-989b-e61d48931981",
   "metadata": {},
   "outputs": [
    {
     "name": "stdout",
     "output_type": "stream",
     "text": [
      "[[0.57843112 0.51147951]\n",
      " [0.63892408 0.47065875]\n",
      " [0.70485844 0.14940155]\n",
      " [0.99028346 0.52697875]\n",
      " [0.63361077 0.51654675]]\n",
      "[0.94045974 0.92513313 1.06523865 0.6610373  0.90087758]\n"
     ]
    }
   ],
   "source": [
    "function_X, function_Y = sampler          (N_function, function_name, sampler_parameters)\n",
    "X         , Y          = extract_K_samples(function_X, function_Y, N_train + N_test)\n",
    "train_X   , train_Y    = X[:N_train], Y[:N_train]\n",
    "test_X    , test_Y     = X[N_train:], Y[N_train:]\n",
    "print(train_X[:5])\n",
    "print(train_Y[:5])"
   ]
  },
  {
   "cell_type": "markdown",
   "id": "6645babc-b05c-4e03-9bed-14f93f078d81",
   "metadata": {},
   "source": [
    "### 6.3 - Rosenbrock4"
   ]
  },
  {
   "cell_type": "code",
   "execution_count": 67,
   "id": "7a350440-1b6b-4248-888a-81ec405a5f20",
   "metadata": {},
   "outputs": [],
   "source": [
    "function_name = \"Rosenbrock4\""
   ]
  },
  {
   "cell_type": "code",
   "execution_count": 68,
   "id": "9e2664d5-b7bf-43df-97c5-03f36246887c",
   "metadata": {},
   "outputs": [
    {
     "name": "stdout",
     "output_type": "stream",
     "text": [
      "[[0.09945578 0.58475819 0.52773217 0.3109735 ]\n",
      " [0.33255508 0.8801599  0.069915   0.23553331]\n",
      " [0.29262357 0.48145858 0.23615387 0.80523411]\n",
      " [0.508551   0.82284575 0.20566934 0.83756714]\n",
      " [0.05681093 0.33915969 0.48820046 0.39323963]]\n",
      "[-0.94483406  0.42784655 -1.00081292 -0.18485374 -0.93425341]\n"
     ]
    }
   ],
   "source": [
    "function_X, function_Y = sampler          (N_function, function_name, sampler_parameters)\n",
    "X         , Y          = extract_K_samples(function_X, function_Y, N_train + N_test)\n",
    "train_X   , train_Y    = X[:N_train], Y[:N_train]\n",
    "test_X    , test_Y     = X[N_train:], Y[N_train:]\n",
    "print(train_X[:5])\n",
    "print(train_Y[:5])"
   ]
  },
  {
   "cell_type": "markdown",
   "id": "3abb2dd4-6b21-43a9-80d6-7f5285c1154c",
   "metadata": {},
   "source": [
    "### 6.4 - Hartman4"
   ]
  },
  {
   "cell_type": "code",
   "execution_count": 69,
   "id": "ac016dc3-8062-4ad1-afef-0ab438157461",
   "metadata": {},
   "outputs": [],
   "source": [
    "function_name = \"Hartman4\""
   ]
  },
  {
   "cell_type": "code",
   "execution_count": 70,
   "id": "27a62eae-a19f-4d6d-9548-bcaa72d79db3",
   "metadata": {},
   "outputs": [
    {
     "name": "stdout",
     "output_type": "stream",
     "text": [
      "[[0.52224982 0.41935293 0.95269794 0.42482804]\n",
      " [0.29790662 0.68219315 0.4274284  0.17789811]\n",
      " [0.5646475  0.36066576 0.37360116 0.62245289]\n",
      " [0.19566544 0.18671762 0.35367705 0.62132593]\n",
      " [0.4870012  0.72228742 0.07388973 0.21096134]]\n",
      "[-1.19912956 -0.61003772  0.26025562 -0.06459216 -0.16695835]\n"
     ]
    }
   ],
   "source": [
    "function_X, function_Y = sampler          (N_function, function_name, sampler_parameters)\n",
    "X         , Y          = extract_K_samples(function_X, function_Y, N_train + N_test)\n",
    "train_X   , train_Y    = X[:N_train], Y[:N_train]\n",
    "test_X    , test_Y     = X[N_train:], Y[N_train:]\n",
    "print(train_X[:5])\n",
    "print(train_Y[:5])"
   ]
  },
  {
   "cell_type": "markdown",
   "id": "8fe20612-0a56-4478-8b98-cf5288455b8e",
   "metadata": {},
   "source": [
    "### 6.5 - Hartman6"
   ]
  },
  {
   "cell_type": "code",
   "execution_count": 71,
   "id": "35f6d083-6bce-481e-9f30-c1acd38fe87a",
   "metadata": {},
   "outputs": [],
   "source": [
    "function_name = \"Hartman6\""
   ]
  },
  {
   "cell_type": "code",
   "execution_count": 72,
   "id": "895f94ea-80b8-4442-a951-0c8d46e4d1db",
   "metadata": {},
   "outputs": [
    {
     "name": "stdout",
     "output_type": "stream",
     "text": [
      "[[0.73471141 0.27103556 0.4749064  0.98167852 0.2629269  0.5829899 ]\n",
      " [0.29918876 0.79138847 0.28352251 0.44066994 0.9728138  0.28136841]\n",
      " [0.19508435 0.04761508 0.0035854  0.09302518 0.31673614 0.45552956]\n",
      " [0.2012261  0.02798189 0.1161087  0.37246828 0.28117559 0.02724347]\n",
      " [0.70733203 0.57426311 0.04768157 0.75290867 0.90416557 0.6435038 ]]\n",
      "[-1.33925419 -1.76351255 -1.91205671 -1.37956526 -1.33064003]\n"
     ]
    }
   ],
   "source": [
    "function_X, function_Y = sampler          (N_function, function_name, sampler_parameters)\n",
    "X         , Y          = extract_K_samples(function_X, function_Y, N_train + N_test)\n",
    "train_X   , train_Y    = X[:N_train], Y[:N_train]\n",
    "test_X    , test_Y     = X[N_train:], Y[N_train:]\n",
    "print(train_X[:5])\n",
    "print(train_Y[:5])"
   ]
  },
  {
   "cell_type": "markdown",
   "id": "5856ba05-18ff-489e-b41e-2f0d36f6a63e",
   "metadata": {},
   "source": [
    "### 6.6 - Sphere6"
   ]
  },
  {
   "cell_type": "code",
   "execution_count": 73,
   "id": "994ac7b4-2284-4928-87a7-f05f458604b3",
   "metadata": {},
   "outputs": [],
   "source": [
    "function_name = \"Sphere6\""
   ]
  },
  {
   "cell_type": "code",
   "execution_count": 74,
   "id": "e07efdc6-deb8-48c5-a6ab-a90335e45d40",
   "metadata": {},
   "outputs": [
    {
     "name": "stdout",
     "output_type": "stream",
     "text": [
      "[[0.02813008 0.62508211 0.95799349 0.04139403 0.18143494 0.88318012]\n",
      " [0.70793965 0.5676215  0.76734545 0.53970102 0.34138098 0.74731052]\n",
      " [0.88902886 0.50115792 0.15889402 0.25124933 0.13792857 0.89529146]\n",
      " [0.00715108 0.072822   0.21998578 0.25812994 0.99645633 0.71591584]\n",
      " [0.20695755 0.37672052 0.3097777  0.59967459 0.70747896 0.01451608]]\n",
      "[-1.87440737 -1.88416718 -1.87908214 -1.86757459 -1.91523346]\n"
     ]
    }
   ],
   "source": [
    "function_X, function_Y = sampler          (N_function, function_name, sampler_parameters)\n",
    "X         , Y          = extract_K_samples(function_X, function_Y, N_train + N_test)\n",
    "train_X   , train_Y    = X[:N_train], Y[:N_train]\n",
    "test_X    , test_Y     = X[N_train:], Y[N_train:]\n",
    "print(train_X[:5])\n",
    "print(train_Y[:5])"
   ]
  },
  {
   "cell_type": "markdown",
   "id": "949bdb8b-6a79-401a-8a23-9775acce7b3e",
   "metadata": {},
   "source": [
    "### 6.7 - Wing weight"
   ]
  },
  {
   "cell_type": "code",
   "execution_count": 75,
   "id": "2a0e4e17-8b2f-466a-a39c-8a21feefdb46",
   "metadata": {},
   "outputs": [],
   "source": [
    "function_name = \"Wing weight\""
   ]
  },
  {
   "cell_type": "code",
   "execution_count": 76,
   "id": "996dcb6c-6e1c-449b-9936-e0782dba500c",
   "metadata": {},
   "outputs": [
    {
     "name": "stdout",
     "output_type": "stream",
     "text": [
      "[[ 1.97728259e+02  2.56255635e+02  8.22169441e+00  1.64425309e+00\n",
      "   3.20490118e+01  9.20868125e-01  1.06630327e-01  5.31964814e+00\n",
      "   2.36243971e+03  7.90188124e-02]\n",
      " [ 1.86013564e+02  2.51688433e+02  8.97225741e+00 -7.15615553e-01\n",
      "   3.64352044e+01  8.27570382e-01  1.13033050e-01  3.55216114e+00\n",
      "   2.26252066e+03  2.75861385e-02]\n",
      " [ 1.51020108e+02  2.37953486e+02  8.91911684e+00  2.85286218e+00\n",
      "   2.34254284e+01  6.62505951e-01  8.47667198e-02  5.95984315e+00\n",
      "   2.36194976e+03  3.34266956e-02]\n",
      " [ 1.83627460e+02  2.29378092e+02  7.91315258e+00 -6.26965195e+00\n",
      "   1.69020166e+01  7.16822367e-01  8.24863960e-02  3.39629349e+00\n",
      "   1.96352525e+03  5.24878273e-02]\n",
      " [ 1.91533234e+02  2.43296179e+02  9.52157889e+00  5.78041280e+00\n",
      "   4.20339864e+01  7.31016290e-01  1.78308607e-01  5.63833713e+00\n",
      "   1.82039955e+03  7.48598470e-02]]\n",
      "[         nan 376.99298963          nan 272.74041911 351.58499162]\n"
     ]
    },
    {
     "name": "stderr",
     "output_type": "stream",
     "text": [
      "C:\\Users/L2S/Desktop/Efficient_and_reliable_GP\\Code\\data_generation\\samplers.py:364: RuntimeWarning: invalid value encountered in scalar power\n",
      "  y                                       = 0.036 * x1**0.758 * x2**0.0035 * (x3 / np.cos(x4)**2)**0.6 * x5**0.006 * x6**0.04 * (100 * x7 / np.cos(x4))**(-0.3) * (x8 * x9)**0.49 + x1 * x10\n"
     ]
    }
   ],
   "source": [
    "function_X, function_Y = sampler          (N_function, function_name, sampler_parameters)\n",
    "X         , Y          = extract_K_samples(function_X, function_Y, N_train + N_test)\n",
    "train_X   , train_Y    = X[:N_train], Y[:N_train]\n",
    "test_X    , test_Y     = X[N_train:], Y[N_train:]\n",
    "print(train_X[:5])\n",
    "print(train_Y[:5])"
   ]
  },
  {
   "cell_type": "markdown",
   "id": "0bab3b7c-2bc7-4a5e-9650-26214e6a5ead",
   "metadata": {},
   "source": [
    "### 6.8 - Sobol"
   ]
  },
  {
   "cell_type": "code",
   "execution_count": 77,
   "id": "b8384b79-06f1-4390-9b9e-cfd83c655c16",
   "metadata": {},
   "outputs": [],
   "source": [
    "function_name = \"Sobol\""
   ]
  },
  {
   "cell_type": "code",
   "execution_count": 78,
   "id": "8d31e361-f271-448e-a7f3-ac2273fbac30",
   "metadata": {},
   "outputs": [
    {
     "name": "stdout",
     "output_type": "stream",
     "text": [
      "[[0.6536767  0.92211144]\n",
      " [0.23743086 0.7559478 ]\n",
      " [0.98813819 0.90806586]\n",
      " [0.2931408  0.29758779]\n",
      " [0.2837165  0.3157766 ]]\n",
      "[0.85788241 1.02735548 1.56113051 0.89790682 0.91026116]\n"
     ]
    }
   ],
   "source": [
    "function_X, function_Y = sampler          (N_function, function_name, sampler_parameters)\n",
    "X         , Y          = extract_K_samples(function_X, function_Y, N_train + N_test)\n",
    "train_X   , train_Y    = X[:N_train], Y[:N_train]\n",
    "test_X    , test_Y     = X[N_train:], Y[N_train:]\n",
    "print(train_X[:5])\n",
    "print(train_Y[:5])"
   ]
  },
  {
   "cell_type": "markdown",
   "id": "65346e5a-0303-4ce5-8e5c-509d951dcb42",
   "metadata": {},
   "source": [
    "### 6.9 - Ishigami"
   ]
  },
  {
   "cell_type": "code",
   "execution_count": 79,
   "id": "716bf48b-c931-40ee-b4cf-ecf2e18fa9fd",
   "metadata": {},
   "outputs": [],
   "source": [
    "function_name = \"Ishigami\""
   ]
  },
  {
   "cell_type": "code",
   "execution_count": 80,
   "id": "4f058086-b802-489f-800f-2b339bf982c6",
   "metadata": {},
   "outputs": [
    {
     "name": "stdout",
     "output_type": "stream",
     "text": [
      "[[0.00314595 0.29277425 0.09731973]\n",
      " [0.07103172 0.32969402 0.87448232]\n",
      " [0.58839979 0.82587696 0.28859341]\n",
      " [0.12503118 0.23299191 0.39165817]\n",
      " [0.15696856 0.7431668  0.87514387]]\n",
      "[6.40567771 3.63209932 6.21738777 6.19793063 3.57882379]\n"
     ]
    }
   ],
   "source": [
    "function_X, function_Y = sampler          (N_function, function_name, sampler_parameters)\n",
    "X         , Y          = extract_K_samples(function_X, function_Y, N_train + N_test)\n",
    "train_X   , train_Y    = X[:N_train], Y[:N_train]\n",
    "test_X    , test_Y     = X[N_train:], Y[N_train:]\n",
    "print(train_X[:5])\n",
    "print(train_Y[:5])"
   ]
  }
 ],
 "metadata": {
  "kernelspec": {
   "display_name": "Python 3 (ipykernel)",
   "language": "python",
   "name": "python3"
  },
  "language_info": {
   "codemirror_mode": {
    "name": "ipython",
    "version": 3
   },
   "file_extension": ".py",
   "mimetype": "text/x-python",
   "name": "python",
   "nbconvert_exporter": "python",
   "pygments_lexer": "ipython3",
   "version": "3.11.7"
  }
 },
 "nbformat": 4,
 "nbformat_minor": 5
}
