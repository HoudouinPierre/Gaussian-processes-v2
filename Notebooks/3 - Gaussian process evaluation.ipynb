{
 "cells": [
  {
   "cell_type": "code",
   "execution_count": 1,
   "id": "771a60c6",
   "metadata": {},
   "outputs": [],
   "source": [
    "import sys \n",
    "sys.path.append(\"C:/Users/L2S/Desktop/Efficient_and_reliable_GP/\")\n",
    "\n",
    "from Code.data_generation   .samplers                               import sampler, extract_K_samples\n",
    "from Code.gaussian_processes.gaussian_process                       import GaussianProcessModel\n",
    "from Code.gaussian_processes.gaussian_process_evaluation            import GaussianProcessModelEvaluation\n",
    "from Code.Parameters        .sampler_parameters                     import sampler_parameters\n",
    "from Code.Parameters        .gaussian_process_parameters            import gaussian_process_model_parameters\n",
    "from Code.Parameters        .gaussian_process_evaluation_parameters import gaussian_process_model_evaluation_parameters"
   ]
  },
  {
   "cell_type": "markdown",
   "id": "45c632df-d940-4390-ab24-5d4ab5a558c5",
   "metadata": {},
   "source": [
    "### Dataset generation"
   ]
  },
  {
   "cell_type": "code",
   "execution_count": 2,
   "id": "d064d6b3-a4c9-4cdf-804b-e571a199220c",
   "metadata": {},
   "outputs": [],
   "source": [
    "N_function             = 500\n",
    "N_train                = 25\n",
    "N_test                 = 5\n",
    "function_name          = \"Power sinus 2D\"\n",
    "function_X, function_Y = sampler          (N_function, function_name, sampler_parameters)\n",
    "X         , Y          = extract_K_samples(function_X, function_Y, N_train + N_test)\n",
    "train_X   , train_Y    = X[:N_train], Y[:N_train]\n",
    "test_X    , test_Y     = X[N_train:], Y[N_train:]"
   ]
  },
  {
   "cell_type": "markdown",
   "id": "65312a0b-3650-4f47-9106-ecf8c3bb5fcf",
   "metadata": {},
   "source": [
    "### Gaussian process regression"
   ]
  },
  {
   "cell_type": "code",
   "execution_count": 3,
   "id": "c2738ac3-19cc-4853-aaa5-4f4994cf61f0",
   "metadata": {},
   "outputs": [],
   "source": [
    "gaussian_process_model = GaussianProcessModel(train_X, train_Y, gaussian_process_model_parameters)\n",
    "gaussian_process_model.train()"
   ]
  },
  {
   "cell_type": "markdown",
   "id": "36c7064a-ef41-4514-9dfb-b63f1b118a40",
   "metadata": {},
   "source": [
    "# 1 - Gaussian process evaluation"
   ]
  },
  {
   "cell_type": "code",
   "execution_count": 4,
   "id": "99ad5479-3931-4c3c-8ce5-129dda180047",
   "metadata": {},
   "outputs": [
    {
     "data": {
      "text/plain": [
       "dict_keys(['Criterions evolution', 'Train', 'Test', 'Function prediction', 'Hyperparameters', 'Optimization infos'])"
      ]
     },
     "execution_count": 4,
     "metadata": {},
     "output_type": "execute_result"
    }
   ],
   "source": [
    "gaussian_process_model_evaluation = GaussianProcessModelEvaluation(train_X, train_Y, test_X, test_Y, function_X, function_Y, gaussian_process_model, gaussian_process_model_evaluation_parameters)\n",
    "evaluation                        = gaussian_process_model_evaluation.evaluation()\n",
    "evaluation.keys()"
   ]
  },
  {
   "cell_type": "code",
   "execution_count": 5,
   "id": "ba36d1ea-3647-484b-b118-d13e9aa76d2b",
   "metadata": {},
   "outputs": [
    {
     "name": "stdout",
     "output_type": "stream",
     "text": [
      "dict_keys(['Negative log likelihood evolution', 'Profiled negative log likelihood evolution', 'Profiled PVA negative log likelihood evolution', 'Mean square error evolution'])\n",
      "dict_keys(['Predictions', 'Reliability', 'Gaussianity', 'Reliability metrics', 'Performance metrics', 'Hybrid metrics'])\n",
      "dict_keys(['Predictions', 'Reliability', 'Gaussianity', 'Reliability metrics', 'Performance metrics', 'Hybrid metrics'])\n",
      "dict_keys(['Train X', 'Train Y', 'LOO mean', 'LOO variance', 'Test X', 'Test Y', 'Function X', 'Function Y', 'Posterior mean', 'Posterior variance'])\n",
      "dict_keys(['Time', 'p', 'mu', 'sigma', 'Length scales', 'Nugget'])\n",
      "dict_keys(['Hyperparameters history', 'Criterion history', 'Number of training iterations', 'Optimization criterion'])\n"
     ]
    }
   ],
   "source": [
    "print(evaluation[\"Criterions evolution\"].keys())\n",
    "print(evaluation[\"Train\"               ].keys())\n",
    "print(evaluation[\"Test\"                ].keys())\n",
    "print(evaluation[\"Function prediction\" ].keys())\n",
    "print(evaluation[\"Hyperparameters\"     ].keys())\n",
    "print(evaluation[\"Optimization infos\"  ].keys())"
   ]
  },
  {
   "cell_type": "code",
   "execution_count": 6,
   "id": "4b68b789-e924-41ec-9caa-79f10cbc927d",
   "metadata": {},
   "outputs": [
    {
     "data": {
      "text/plain": [
       "[2.566204054748493,\n",
       " 1148972.1910450845,\n",
       " 6.201461606826992,\n",
       " 2.5458263090666637,\n",
       " 3.6040610487256615,\n",
       " 2.5138232308365023,\n",
       " 154.44223458239,\n",
       " 2.526450200715754,\n",
       " 2.453582591151479,\n",
       " 2.451346556325534,\n",
       " 2.4512763558617383]"
      ]
     },
     "execution_count": 6,
     "metadata": {},
     "output_type": "execute_result"
    }
   ],
   "source": [
    "evaluation[\"Optimization infos\"][\"Criterion history\"]"
   ]
  }
 ],
 "metadata": {
  "kernelspec": {
   "display_name": "Python 3 (ipykernel)",
   "language": "python",
   "name": "python3"
  },
  "language_info": {
   "codemirror_mode": {
    "name": "ipython",
    "version": 3
   },
   "file_extension": ".py",
   "mimetype": "text/x-python",
   "name": "python",
   "nbconvert_exporter": "python",
   "pygments_lexer": "ipython3",
   "version": "3.11.7"
  }
 },
 "nbformat": 4,
 "nbformat_minor": 5
}
