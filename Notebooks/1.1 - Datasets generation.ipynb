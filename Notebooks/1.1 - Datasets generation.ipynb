{
 "cells": [
  {
   "cell_type": "code",
   "execution_count": 1,
   "id": "771a60c6",
   "metadata": {},
   "outputs": [],
   "source": [
    "import sys \n",
    "sys.path.append(\"C:/Users/L2S/Desktop/Efficient_and_reliable_GP/Code/\")\n",
    "from dataset_generation import sampler, extract_K_samples"
   ]
  },
  {
   "cell_type": "markdown",
   "id": "2f613475-a048-48a1-9271-e93e51af0ebb",
   "metadata": {},
   "source": [
    "# Parameters"
   ]
  },
  {
   "cell_type": "code",
   "execution_count": 2,
   "id": "dfac856d",
   "metadata": {},
   "outputs": [],
   "source": [
    "# Dataset\n",
    "space_size              = 1\n",
    "N_function              = 500\n",
    "all_function_parameters = {\"Power sinus 1D\"                : {\"Power\" : 1},\n",
    "                           \"Heaviside 1D\"                  : {\"x gaps\" : [0, 0.5, 1], \"steps value\" : [1, -1], \"sigma noises\" : [0.2, 0.2]},\n",
    "                           \"Multimodal sinus 1D\"           : {\"x gaps\" : [0, 0.5, 1], \"speeds value\" : [1, 2]},\n",
    "                           \"Noisy sinus 1D\"                : {\"sigma noise\" : 0.2},\n",
    "                           \"Sinus times x 1D\"              : {},\n",
    "                           \"Sinus cardinal 1D\"             : {},\n",
    "                           \"Slide function\"                : {},\n",
    "                           \"Two bumps\"                     : {},\n",
    "                           \"Power sinus 2D\"                : {\"Power\" : 1},\n",
    "                           \"Heaviside 2D\"                  : {\"x gaps\" : [0, 1, 2], \"steps value\" : [1, -1], \"sigma noises\" : [0.2, 0.2]},\n",
    "                           \"Multimodal sinus 2D\"           : {\"x gaps\" : [0, 1, 2], \"speeds value\" : [1, 2]},\n",
    "                           \"Noisy sinus 2D\"                : {\"sigma noise\" : 0.2},\n",
    "                           \"Sinus times x 2D\"              : {},\n",
    "                           \"Sinus cardinal 2D\"             : {},\n",
    "                           \"Gaussian process trajectory\"   : {\"sigma0\" : 1, \"theta\" : 1},\n",
    "                           \"Concrete compressive strength\" : {},\n",
    "                           \"Energy efficiency\"             : {},\n",
    "                           \"Auto mpg\"                      : {},\n",
    "                           \"Combined cycle power plant\"    : {},\n",
    "                           \"Airfoil self-noise\"            : {},\n",
    "                           \"Morokoff & caflisch 1\"         : {\"Dimension\" : 2},\n",
    "                           \"Morokoff & caflisch 2\"         : {\"Dimension\" : 2},\n",
    "                           \"Branin\"                        : {},\n",
    "                           \"Branin hoo\"                    : {},\n",
    "                           \"Goldstein\"                     : {},\n",
    "                           \"Goldstein price\"               : {},\n",
    "                           \"Rosenbrock4\"                   : {},\n",
    "                           \"Hartman4\"                      : {},\n",
    "                           \"Hartman6\"                      : {},\n",
    "                           \"Sphere6\"                       : {},\n",
    "                           \"Iooss1\"                        : {},\n",
    "                           \"Iooss2\"                        : {},\n",
    "                           \"Wing weight\"                   : {},\n",
    "                           \"Sobol\"                         : {\"a\" : [1, 10]},\n",
    "                           \"Two input toy\"                 : {},\n",
    "                           \"Highly non linear\"             : {},\n",
    "                           \"Mystery\"                       : {},\n",
    "                           \"Six hump camelback\"            : {},\n",
    "                           \"Ishigami\"                      : {}\n",
    "                          }\n",
    "N_train                 = 25\n",
    "N_test                  = 25"
   ]
  },
  {
   "cell_type": "markdown",
   "id": "2efa8886",
   "metadata": {},
   "source": [
    "# 1 - 1D synthetic datasets"
   ]
  },
  {
   "cell_type": "markdown",
   "id": "d4f50d5b-afed-4c3a-8850-6c5aa8e54dce",
   "metadata": {},
   "source": [
    "### 1.1 - Power sinus 1D"
   ]
  },
  {
   "cell_type": "code",
   "execution_count": 3,
   "id": "de97f460",
   "metadata": {},
   "outputs": [],
   "source": [
    "function_name = \"Power sinus 1D\""
   ]
  },
  {
   "cell_type": "code",
   "execution_count": 4,
   "id": "83effd45",
   "metadata": {},
   "outputs": [
    {
     "name": "stdout",
     "output_type": "stream",
     "text": [
      "[[0.51375864]\n",
      " [0.47293386]\n",
      " [0.12280186]\n",
      " [0.24576777]\n",
      " [0.43258818]]\n",
      "[-0.08634043  0.16924303  0.69727358  0.99964646  0.41100934]\n"
     ]
    }
   ],
   "source": [
    "X_function, Y_function = sampler          (space_size, N_function, function_name, all_function_parameters)\n",
    "X, Y                   = extract_K_samples(X_function, Y_function, N_train + N_test)\n",
    "X_observed, Y_observed = X[:N_train], Y[:N_train]\n",
    "X_test    , Y_test     = X[N_train:], Y[N_train:]\n",
    "print(X_observed[:5])\n",
    "print(Y_observed[:5])"
   ]
  },
  {
   "cell_type": "markdown",
   "id": "518a5004",
   "metadata": {},
   "source": [
    "### 1.2 - Heaviside 1D"
   ]
  },
  {
   "cell_type": "code",
   "execution_count": 5,
   "id": "b71da939",
   "metadata": {},
   "outputs": [],
   "source": [
    "function_name       = \"Heaviside 1D\""
   ]
  },
  {
   "cell_type": "code",
   "execution_count": 6,
   "id": "1696e9d8",
   "metadata": {},
   "outputs": [
    {
     "name": "stdout",
     "output_type": "stream",
     "text": [
      "[[0.37890159]\n",
      " [0.68083697]\n",
      " [0.67590193]\n",
      " [0.99165844]\n",
      " [0.96011552]]\n",
      "[ 1.12132343 -0.51949248 -1.00218091 -0.78644317 -0.61387015]\n"
     ]
    }
   ],
   "source": [
    "X_function, Y_function = sampler          (space_size, N_function, function_name, all_function_parameters)\n",
    "X, Y                   = extract_K_samples(X_function, Y_function, N_train + N_test)\n",
    "X_observed, Y_observed = X[:N_train], Y[:N_train]\n",
    "X_test    , Y_test     = X[N_train:], Y[N_train:]\n",
    "print(X_observed[:5])\n",
    "print(Y_observed[:5])"
   ]
  },
  {
   "cell_type": "markdown",
   "id": "7ee5122c",
   "metadata": {},
   "source": [
    "### 1.3 - Multimodal sinus 1D"
   ]
  },
  {
   "cell_type": "code",
   "execution_count": 7,
   "id": "c78bf9b6",
   "metadata": {},
   "outputs": [],
   "source": [
    "function_name = \"Multimodal sinus 1D\""
   ]
  },
  {
   "cell_type": "code",
   "execution_count": 8,
   "id": "aa087121",
   "metadata": {},
   "outputs": [
    {
     "name": "stdout",
     "output_type": "stream",
     "text": [
      "[[0.30340693]\n",
      " [0.18896167]\n",
      " [0.54172646]\n",
      " [0.55564934]\n",
      " [0.58643712]]\n",
      "[0.94422419 0.92735505 0.5006506  0.64369002 0.88486349]\n"
     ]
    }
   ],
   "source": [
    "X_function, Y_function = sampler          (space_size, N_function, function_name, all_function_parameters)\n",
    "X, Y                   = extract_K_samples(X_function, Y_function, N_train + N_test)\n",
    "X_observed, Y_observed = X[:N_train], Y[:N_train]\n",
    "X_test    , Y_test     = X[N_train:], Y[N_train:]\n",
    "print(X_observed[:5])\n",
    "print(Y_observed[:5])"
   ]
  },
  {
   "cell_type": "markdown",
   "id": "71f11244",
   "metadata": {},
   "source": [
    "### 1.4 - Noisy sinus 1D"
   ]
  },
  {
   "cell_type": "code",
   "execution_count": 9,
   "id": "d90328f2",
   "metadata": {},
   "outputs": [],
   "source": [
    "function_name = \"Noisy sinus 1D\""
   ]
  },
  {
   "cell_type": "code",
   "execution_count": 10,
   "id": "98dcb453",
   "metadata": {},
   "outputs": [
    {
     "name": "stdout",
     "output_type": "stream",
     "text": [
      "[[0.05021509]\n",
      " [0.37260425]\n",
      " [0.19561651]\n",
      " [0.3138971 ]\n",
      " [0.64992918]]\n",
      "[-0.02087627  0.39187482  1.19936719  1.172127   -0.63207529]\n"
     ]
    }
   ],
   "source": [
    "X_function, Y_function = sampler          (space_size, N_function, function_name, all_function_parameters)\n",
    "X, Y                   = extract_K_samples(X_function, Y_function, N_train + N_test)\n",
    "X_observed, Y_observed = X[:N_train], Y[:N_train]\n",
    "X_test    , Y_test     = X[N_train:], Y[N_train:]\n",
    "print(X_observed[:5])\n",
    "print(Y_observed[:5])"
   ]
  },
  {
   "cell_type": "markdown",
   "id": "71a2d3a6",
   "metadata": {},
   "source": [
    "### 1.5 - Sinus times x 1D"
   ]
  },
  {
   "cell_type": "code",
   "execution_count": 11,
   "id": "7f9272a1",
   "metadata": {},
   "outputs": [],
   "source": [
    "function_name = \"Sinus times x 1D\""
   ]
  },
  {
   "cell_type": "code",
   "execution_count": 12,
   "id": "4ecae507",
   "metadata": {},
   "outputs": [
    {
     "name": "stdout",
     "output_type": "stream",
     "text": [
      "[[0.81757725]\n",
      " [0.28967981]\n",
      " [0.88922058]\n",
      " [0.31944529]\n",
      " [0.78938843]]\n",
      "[-0.7449792   0.28072335 -0.5701591   0.28951504 -0.76533705]\n"
     ]
    }
   ],
   "source": [
    "X_function, Y_function = sampler          (space_size, N_function, function_name, all_function_parameters)\n",
    "X, Y                   = extract_K_samples(X_function, Y_function, N_train + N_test)\n",
    "X_observed, Y_observed = X[:N_train], Y[:N_train]\n",
    "X_test    , Y_test     = X[N_train:], Y[N_train:]\n",
    "print(X_observed[:5])\n",
    "print(Y_observed[:5])"
   ]
  },
  {
   "cell_type": "markdown",
   "id": "d48b0d1a",
   "metadata": {},
   "source": [
    "### 1.6 - Sinus cardinal 1D"
   ]
  },
  {
   "cell_type": "code",
   "execution_count": 13,
   "id": "38a8236c",
   "metadata": {},
   "outputs": [],
   "source": [
    "function_name = \"Sinus cardinal 1D\""
   ]
  },
  {
   "cell_type": "code",
   "execution_count": 14,
   "id": "08c5f649",
   "metadata": {},
   "outputs": [
    {
     "name": "stdout",
     "output_type": "stream",
     "text": [
      "[[0.26283671]\n",
      " [0.83060555]\n",
      " [0.14759143]\n",
      " [0.62487132]\n",
      " [0.47574676]]\n",
      "[ 3.79227505 -1.05280703  5.4205685  -1.13068854  0.31907415]\n"
     ]
    }
   ],
   "source": [
    "X_function, Y_function = sampler          (space_size, N_function, function_name, all_function_parameters)\n",
    "X, Y                   = extract_K_samples(X_function, Y_function, N_train + N_test)\n",
    "X_observed, Y_observed = X[:N_train], Y[:N_train]\n",
    "X_test    , Y_test     = X[N_train:], Y[N_train:]\n",
    "print(X_observed[:5])\n",
    "print(Y_observed[:5])"
   ]
  },
  {
   "cell_type": "markdown",
   "id": "87938a1f",
   "metadata": {},
   "source": [
    "### 1.7 - Slide function"
   ]
  },
  {
   "cell_type": "code",
   "execution_count": 15,
   "id": "61507fee",
   "metadata": {},
   "outputs": [],
   "source": [
    "function_name = \"Slide function\""
   ]
  },
  {
   "cell_type": "code",
   "execution_count": 16,
   "id": "5e379dd3",
   "metadata": {},
   "outputs": [
    {
     "name": "stdout",
     "output_type": "stream",
     "text": [
      "[[0.2303347 ]\n",
      " [0.04403535]\n",
      " [0.07658567]\n",
      " [0.35284584]\n",
      " [0.93854066]]\n",
      "[-0.17730057 -0.03508565 -0.06077574 -0.2615433  -0.48487881]\n"
     ]
    }
   ],
   "source": [
    "X_function, Y_function = sampler          (space_size, N_function, function_name, all_function_parameters)\n",
    "X, Y                   = extract_K_samples(X_function, Y_function, N_train + N_test)\n",
    "X_observed, Y_observed = X[:N_train], Y[:N_train]\n",
    "X_test    , Y_test     = X[N_train:], Y[N_train:]\n",
    "print(X_observed[:5])\n",
    "print(Y_observed[:5])"
   ]
  },
  {
   "cell_type": "markdown",
   "id": "0c16e1c2-9864-4562-95c3-5402efc0f21c",
   "metadata": {},
   "source": [
    "### 1.8 - Two bumps"
   ]
  },
  {
   "cell_type": "code",
   "execution_count": 17,
   "id": "e3b4cc2a-fac2-463f-8890-333cb87aa17d",
   "metadata": {},
   "outputs": [],
   "source": [
    "function_name = \"Two bumps\""
   ]
  },
  {
   "cell_type": "code",
   "execution_count": 18,
   "id": "8c7e2e5f-599f-417f-8f27-2f260b7fbea5",
   "metadata": {},
   "outputs": [
    {
     "name": "stdout",
     "output_type": "stream",
     "text": [
      "[[0.68635977]\n",
      " [0.6214025 ]\n",
      " [0.2555427 ]\n",
      " [0.56087884]\n",
      " [0.08943365]]\n",
      "[ 0.42560346  0.39421668 -0.99456474  0.28515509 -1.13295071]\n"
     ]
    }
   ],
   "source": [
    "X_function, Y_function = sampler          (space_size, N_function, function_name, all_function_parameters)\n",
    "X, Y                   = extract_K_samples(X_function, Y_function, N_train + N_test)\n",
    "X_observed, Y_observed = X[:N_train], Y[:N_train]\n",
    "X_test    , Y_test     = X[N_train:], Y[N_train:]\n",
    "print(X_observed[:5])\n",
    "print(Y_observed[:5])"
   ]
  },
  {
   "cell_type": "markdown",
   "id": "45c632df-d940-4390-ab24-5d4ab5a558c5",
   "metadata": {},
   "source": [
    "# 2 - 2D Synthetic datasets"
   ]
  },
  {
   "cell_type": "markdown",
   "id": "0d18b5f5-9b1d-4cc9-b9a3-8d3c31481d2b",
   "metadata": {},
   "source": [
    "### 2.1 - Power sinus 2D"
   ]
  },
  {
   "cell_type": "code",
   "execution_count": 19,
   "id": "3942c4b9-4d30-4ce8-99ae-e363d41539ca",
   "metadata": {},
   "outputs": [],
   "source": [
    "function_name = \"Power sinus 2D\""
   ]
  },
  {
   "cell_type": "code",
   "execution_count": 20,
   "id": "734d208a-f243-4a7e-bb12-847b59278e0a",
   "metadata": {},
   "outputs": [
    {
     "name": "stdout",
     "output_type": "stream",
     "text": [
      "[[1.32391482e-05 8.47722961e-01]\n",
      " [6.47741548e-02 1.23361767e-02]\n",
      " [6.85722788e-01 4.30933159e-02]\n",
      " [6.31505630e-01 1.78889802e-01]\n",
      " [2.90423794e-01 8.70724107e-01]]\n",
      "[-0.81729546  0.46576464 -0.99115495 -0.92885899  0.84817057]\n"
     ]
    }
   ],
   "source": [
    "X_function, Y_function = sampler          (space_size, N_function, function_name, all_function_parameters)\n",
    "X, Y                   = extract_K_samples(X_function, Y_function, N_train + N_test)\n",
    "X_observed, Y_observed = X[:N_train], Y[:N_train]\n",
    "X_test    , Y_test     = X[N_train:], Y[N_train:]\n",
    "print(X_observed[:5])\n",
    "print(Y_observed[:5])"
   ]
  },
  {
   "cell_type": "markdown",
   "id": "70345752-f83e-4d5b-94a6-931c0db20e71",
   "metadata": {},
   "source": [
    "### 2.2 - Heaviside 2D"
   ]
  },
  {
   "cell_type": "code",
   "execution_count": 21,
   "id": "5c8746da-3a9a-4207-8ee8-ba926ace3c19",
   "metadata": {},
   "outputs": [],
   "source": [
    "function_name       = \"Heaviside 2D\""
   ]
  },
  {
   "cell_type": "code",
   "execution_count": 22,
   "id": "bcf9f2e6-3239-4cac-89a0-271e6fadecb1",
   "metadata": {},
   "outputs": [
    {
     "name": "stdout",
     "output_type": "stream",
     "text": [
      "[[0.11754584 0.87851169]\n",
      " [0.99307395 0.84576479]\n",
      " [0.78490957 0.65839991]\n",
      " [0.60546216 0.85944886]\n",
      " [0.30627771 0.55560238]]\n",
      "[ 1.16116247 -1.2519708  -0.86677756 -0.84187941  0.7617337 ]\n"
     ]
    }
   ],
   "source": [
    "X_function, Y_function = sampler          (space_size, N_function, function_name, all_function_parameters)\n",
    "X, Y                   = extract_K_samples(X_function, Y_function, N_train + N_test)\n",
    "X_observed, Y_observed = X[:N_train], Y[:N_train]\n",
    "X_test    , Y_test     = X[N_train:], Y[N_train:]\n",
    "print(X_observed[:5])\n",
    "print(Y_observed[:5])"
   ]
  },
  {
   "cell_type": "markdown",
   "id": "6cb73f3d-36b9-4d0f-b34c-fd7ed9dd02f6",
   "metadata": {},
   "source": [
    "### 2.3 - Multimodal sinus 2D"
   ]
  },
  {
   "cell_type": "code",
   "execution_count": 23,
   "id": "10231134-bd10-4b39-9f3a-1491f068ffe0",
   "metadata": {},
   "outputs": [],
   "source": [
    "function_name = \"Multimodal sinus 2D\""
   ]
  },
  {
   "cell_type": "code",
   "execution_count": 24,
   "id": "d7551936-5e4f-4458-930e-c904d1f3e8b4",
   "metadata": {},
   "outputs": [
    {
     "name": "stdout",
     "output_type": "stream",
     "text": [
      "[[0.54357295 0.06580707]\n",
      " [0.55606742 0.06985283]\n",
      " [0.50548581 0.25773201]\n",
      " [0.09995588 0.63439088]\n",
      " [0.06357198 0.26560677]]\n",
      "[-0.6344177  -0.71118349 -0.99655333 -0.99516732  0.87878089]\n"
     ]
    }
   ],
   "source": [
    "X_function, Y_function = sampler          (space_size, N_function, function_name, all_function_parameters)\n",
    "X, Y                   = extract_K_samples(X_function, Y_function, N_train + N_test)\n",
    "X_observed, Y_observed = X[:N_train], Y[:N_train]\n",
    "X_test    , Y_test     = X[N_train:], Y[N_train:]\n",
    "print(X_observed[:5])\n",
    "print(Y_observed[:5])"
   ]
  },
  {
   "cell_type": "markdown",
   "id": "c40744fa-f11d-4be4-8696-a6e7dd599651",
   "metadata": {},
   "source": [
    "### 2.4 - Noisy sinus 2D"
   ]
  },
  {
   "cell_type": "code",
   "execution_count": 25,
   "id": "1327bfcc-9a7a-49f7-9e11-aff54c461fa0",
   "metadata": {},
   "outputs": [],
   "source": [
    "function_name = \"Noisy sinus 2D\""
   ]
  },
  {
   "cell_type": "code",
   "execution_count": 26,
   "id": "f35c5b0e-94fe-45aa-bd6c-1804892f61d9",
   "metadata": {},
   "outputs": [
    {
     "name": "stdout",
     "output_type": "stream",
     "text": [
      "[[0.02462396 0.29455496]\n",
      " [0.89171626 0.10253349]\n",
      " [0.63976426 0.8163482 ]\n",
      " [0.28908152 0.55499067]\n",
      " [0.6464218  0.40983512]]\n",
      "[ 0.75548162  0.17937636  0.38591224 -0.98287651  0.4719261 ]\n"
     ]
    }
   ],
   "source": [
    "X_function, Y_function = sampler          (space_size, N_function, function_name, all_function_parameters)\n",
    "X, Y                   = extract_K_samples(X_function, Y_function, N_train + N_test)\n",
    "X_observed, Y_observed = X[:N_train], Y[:N_train]\n",
    "X_test    , Y_test     = X[N_train:], Y[N_train:]\n",
    "print(X_observed[:5])\n",
    "print(Y_observed[:5])"
   ]
  },
  {
   "cell_type": "markdown",
   "id": "0ed68568-923d-4454-96f0-dbf5e51bf3c4",
   "metadata": {},
   "source": [
    "### 2.5 - Sinus times x 2D"
   ]
  },
  {
   "cell_type": "code",
   "execution_count": 27,
   "id": "dcf6b897-14ce-4fcc-a291-3c984302d9e6",
   "metadata": {},
   "outputs": [],
   "source": [
    "function_name = \"Sinus times x 2D\""
   ]
  },
  {
   "cell_type": "code",
   "execution_count": 28,
   "id": "fada788c-d3dc-4aa9-b7fc-4a80b0ab2511",
   "metadata": {},
   "outputs": [
    {
     "name": "stdout",
     "output_type": "stream",
     "text": [
      "[[0.15081212 0.06749803]\n",
      " [0.78228629 0.29131952]\n",
      " [0.05724256 0.7143168 ]\n",
      " [0.72604995 0.92651159]\n",
      " [0.06713282 0.61100781]]\n",
      "[ 0.21399686  0.47900858 -0.7644912  -1.3524101  -0.61018492]\n"
     ]
    }
   ],
   "source": [
    "X_function, Y_function = sampler          (space_size, N_function, function_name, all_function_parameters)\n",
    "X, Y                   = extract_K_samples(X_function, Y_function, N_train + N_test)\n",
    "X_observed, Y_observed = X[:N_train], Y[:N_train]\n",
    "X_test    , Y_test     = X[N_train:], Y[N_train:]\n",
    "print(X_observed[:5])\n",
    "print(Y_observed[:5])"
   ]
  },
  {
   "cell_type": "markdown",
   "id": "590c10fb-f8b6-413f-942f-240e350b0184",
   "metadata": {},
   "source": [
    "### 2.6 - Sinus cardinal 2D"
   ]
  },
  {
   "cell_type": "code",
   "execution_count": 29,
   "id": "c60ee868-c62e-4aba-a950-0b10843f05b6",
   "metadata": {},
   "outputs": [],
   "source": [
    "function_name = \"Sinus cardinal 2D\""
   ]
  },
  {
   "cell_type": "code",
   "execution_count": 30,
   "id": "0691af64-b4ff-4c96-9f4c-facfbb230ff0",
   "metadata": {},
   "outputs": [
    {
     "name": "stdout",
     "output_type": "stream",
     "text": [
      "[[0.00807021 0.46813102]\n",
      " [0.56974841 0.58348619]\n",
      " [0.5676771  0.06738048]\n",
      " [0.5149864  0.14030435]\n",
      " [0.84678332 0.86964352]]\n",
      "[ 0.3128414   0.71173291 -1.18154682 -1.26372305 -0.56969116]\n"
     ]
    }
   ],
   "source": [
    "X_function, Y_function = sampler          (space_size, N_function, function_name, all_function_parameters)\n",
    "X, Y                   = extract_K_samples(X_function, Y_function, N_train + N_test)\n",
    "X_observed, Y_observed = X[:N_train], Y[:N_train]\n",
    "X_test    , Y_test     = X[N_train:], Y[N_train:]\n",
    "print(X_observed[:5])\n",
    "print(Y_observed[:5])"
   ]
  },
  {
   "cell_type": "markdown",
   "id": "defe0333",
   "metadata": {},
   "source": [
    "# 3 - Gaussian process trajectory"
   ]
  },
  {
   "cell_type": "code",
   "execution_count": 31,
   "id": "b36ed029-4d10-4da8-beba-63260375526c",
   "metadata": {},
   "outputs": [],
   "source": [
    "function_name = \"Gaussian process trajectory\""
   ]
  },
  {
   "cell_type": "code",
   "execution_count": 32,
   "id": "435a9001-17a7-4141-8971-53a874f4b41d",
   "metadata": {},
   "outputs": [
    {
     "name": "stdout",
     "output_type": "stream",
     "text": [
      "[[0.36110456]\n",
      " [0.6209443 ]\n",
      " [0.86156845]\n",
      " [0.21010388]\n",
      " [0.3543349 ]]\n",
      "[-1.63997055 -1.77064662 -1.83441552 -1.57977363 -1.6368092 ]\n"
     ]
    }
   ],
   "source": [
    "X_function, Y_function = sampler          (space_size, N_function, function_name, all_function_parameters)\n",
    "X, Y                   = extract_K_samples(X_function, Y_function, N_train + N_test)\n",
    "X_observed, Y_observed = X[:N_train], Y[:N_train]\n",
    "X_test    , Y_test     = X[N_train:], Y[N_train:]\n",
    "print(X_observed[:5])\n",
    "print(Y_observed[:5])"
   ]
  },
  {
   "cell_type": "markdown",
   "id": "1cc0c65d-11f0-4dea-8a75-5d8f023ac5ee",
   "metadata": {},
   "source": [
    "# 4 - UCI machine learning datasets"
   ]
  },
  {
   "cell_type": "markdown",
   "id": "fe180dca",
   "metadata": {},
   "source": [
    "### 4.1 - Concrete compressive strength - $N=1030$ and $d=8$"
   ]
  },
  {
   "cell_type": "code",
   "execution_count": 33,
   "id": "ac9622c1",
   "metadata": {},
   "outputs": [],
   "source": [
    "function_name = \"Concrete compressive strength\""
   ]
  },
  {
   "cell_type": "code",
   "execution_count": 34,
   "id": "f5317369",
   "metadata": {},
   "outputs": [
    {
     "name": "stdout",
     "output_type": "stream",
     "text": [
      "[[ 362.6  189.     0.   164.9   11.6  944.7  755.8    7. ]\n",
      " [ 349.     0.     0.   192.     0.  1056.   809.    90. ]\n",
      " [ 310.     0.     0.   192.     0.   970.   850.     7. ]\n",
      " [ 323.7  282.8    0.   183.8   10.3  942.7  659.9    7. ]\n",
      " [ 157.   214.   152.   200.     9.   819.   704.    28. ]]\n",
      "[55.9  40.66 14.99 49.8  33.05]\n"
     ]
    }
   ],
   "source": [
    "X_function, Y_function = sampler          (space_size, N_function, function_name, all_function_parameters)\n",
    "X, Y                   = extract_K_samples(X_function, Y_function, N_train + N_test)\n",
    "X_observed, Y_observed = X[:N_train], Y[:N_train]\n",
    "X_test    , Y_test     = X[N_train:], Y[N_train:]\n",
    "print(X_observed[:5])\n",
    "print(Y_observed[:5])"
   ]
  },
  {
   "cell_type": "markdown",
   "id": "bb74516c",
   "metadata": {},
   "source": [
    "### 4.2 - Energy efficiency - $N=768$ and $d=8$"
   ]
  },
  {
   "cell_type": "code",
   "execution_count": 35,
   "id": "d983845a",
   "metadata": {},
   "outputs": [],
   "source": [
    "function_name = \"Energy efficiency\""
   ]
  },
  {
   "cell_type": "code",
   "execution_count": 36,
   "id": "9229cce4",
   "metadata": {},
   "outputs": [
    {
     "name": "stdout",
     "output_type": "stream",
     "text": [
      "[[6.2000e-01 8.0850e+02 3.6750e+02 2.2050e+02 3.5000e+00 5.0000e+00\n",
      "  4.0000e-01 2.0000e+00]\n",
      " [7.6000e-01 6.6150e+02 4.1650e+02 1.2250e+02 7.0000e+00 2.0000e+00\n",
      "  1.0000e-01 5.0000e+00]\n",
      " [7.9000e-01 6.3700e+02 3.4300e+02 1.4700e+02 7.0000e+00 4.0000e+00\n",
      "  2.5000e-01 3.0000e+00]\n",
      " [9.8000e-01 5.1450e+02 2.9400e+02 1.1025e+02 7.0000e+00 3.0000e+00\n",
      "  0.0000e+00 0.0000e+00]\n",
      " [7.9000e-01 6.3700e+02 3.4300e+02 1.4700e+02 7.0000e+00 3.0000e+00\n",
      "  0.0000e+00 0.0000e+00]]\n",
      "[17.15 32.31 39.81 15.55 29.9 ]\n"
     ]
    }
   ],
   "source": [
    "X_function, Y_function = sampler          (space_size, N_function, function_name, all_function_parameters)\n",
    "X, Y                   = extract_K_samples(X_function, Y_function, N_train + N_test)\n",
    "X_observed, Y_observed = X[:N_train], Y[:N_train]\n",
    "X_test    , Y_test     = X[N_train:], Y[N_train:]\n",
    "print(X_observed[:5])\n",
    "print(Y_observed[:5])"
   ]
  },
  {
   "cell_type": "markdown",
   "id": "2ff78806",
   "metadata": {},
   "source": [
    "### 4.3 - Auto mpg - $N=398$ and $d=7$"
   ]
  },
  {
   "cell_type": "code",
   "execution_count": 37,
   "id": "34d8faf0",
   "metadata": {},
   "outputs": [],
   "source": [
    "function_name = \"Auto mpg\""
   ]
  },
  {
   "cell_type": "code",
   "execution_count": 38,
   "id": "978c7a0c",
   "metadata": {},
   "outputs": [
    {
     "name": "stdout",
     "output_type": "stream",
     "text": [
      "[[1.210e+02 4.000e+00 1.120e+02 2.933e+03 1.450e+01 7.200e+01 2.000e+00]\n",
      " [2.320e+02 6.000e+00 1.000e+02 2.901e+03 1.600e+01 7.400e+01 1.000e+00]\n",
      " [4.000e+02 8.000e+00 1.800e+02 4.220e+03 1.110e+01 7.700e+01 1.000e+00]\n",
      " [2.500e+02 6.000e+00 7.200e+01 3.432e+03 2.100e+01 7.500e+01 1.000e+00]\n",
      " [1.190e+02 4.000e+00 9.200e+01 2.434e+03 1.500e+01 8.000e+01 3.000e+00]]\n",
      "[18. 19. 16. 15. 37.]\n"
     ]
    }
   ],
   "source": [
    "X_function, Y_function = sampler          (space_size, N_function, function_name, all_function_parameters)\n",
    "X, Y                   = extract_K_samples(X_function, Y_function, N_train + N_test)\n",
    "X_observed, Y_observed = X[:N_train], Y[:N_train]\n",
    "X_test    , Y_test     = X[N_train:], Y[N_train:]\n",
    "print(X_observed[:5])\n",
    "print(Y_observed[:5])"
   ]
  },
  {
   "cell_type": "markdown",
   "id": "97422dae",
   "metadata": {},
   "source": [
    "### 4.4 - Combined cycle power plant - $N=9568$ and $d=4$"
   ]
  },
  {
   "cell_type": "code",
   "execution_count": 39,
   "id": "e5560c80",
   "metadata": {},
   "outputs": [],
   "source": [
    "function_name = \"Combined cycle power plant\""
   ]
  },
  {
   "cell_type": "code",
   "execution_count": 40,
   "id": "1736c7fd",
   "metadata": {},
   "outputs": [
    {
     "name": "stdout",
     "output_type": "stream",
     "text": [
      "[[  30.36   74.87 1008.96   61.87]\n",
      " [   9.1    39.42 1025.28   68.78]\n",
      " [  30.35   69.51 1009.95   39.24]\n",
      " [  30.39   71.8  1010.87   64.11]\n",
      " [  29.56   52.84 1006.09   42.17]]\n",
      "[435.31 471.85 430.07 435.82 436.46]\n"
     ]
    }
   ],
   "source": [
    "X_function, Y_function = sampler          (space_size, N_function, function_name, all_function_parameters)\n",
    "X, Y                   = extract_K_samples(X_function, Y_function, N_train + N_test)\n",
    "X_observed, Y_observed = X[:N_train], Y[:N_train]\n",
    "X_test    , Y_test     = X[N_train:], Y[N_train:]\n",
    "print(X_observed[:5])\n",
    "print(Y_observed[:5])"
   ]
  },
  {
   "cell_type": "markdown",
   "id": "a7b26a00",
   "metadata": {},
   "source": [
    "### 4.5 - Airfoil self-noise - $N=1503$ and $d=4$"
   ]
  },
  {
   "cell_type": "code",
   "execution_count": 41,
   "id": "b65185aa",
   "metadata": {},
   "outputs": [],
   "source": [
    "function_name = \"Airfoil self-noise\""
   ]
  },
  {
   "cell_type": "code",
   "execution_count": 42,
   "id": "45e4434e",
   "metadata": {},
   "outputs": [
    {
     "name": "stdout",
     "output_type": "stream",
     "text": [
      "[[3.15000e+03 7.20000e+00 1.52400e-01 3.96000e+01 9.09175e-03]\n",
      " [1.25000e+03 1.74000e+01 2.54000e-02 3.17000e+01 1.76631e-02]\n",
      " [6.30000e+03 0.00000e+00 2.54000e-02 5.55000e+01 4.12290e-04]\n",
      " [3.15000e+03 1.26000e+01 1.52400e-01 3.96000e+01 5.84113e-02]\n",
      " [2.00000e+02 1.54000e+01 5.08000e-02 7.13000e+01 2.64269e-02]]\n",
      "[111.818 128.306 136.103 106.26  123.595]\n"
     ]
    }
   ],
   "source": [
    "X_function, Y_function = sampler          (space_size, N_function, function_name, all_function_parameters)\n",
    "X, Y                   = extract_K_samples(X_function, Y_function, N_train + N_test)\n",
    "X_observed, Y_observed = X[:N_train], Y[:N_train]\n",
    "X_test    , Y_test     = X[N_train:], Y[N_train:]\n",
    "print(X_observed[:5])\n",
    "print(Y_observed[:5])"
   ]
  },
  {
   "cell_type": "markdown",
   "id": "84cfaa57-5686-4ffc-bec4-02d485980c51",
   "metadata": {},
   "source": [
    "# 5 - Literature datasets 2D"
   ]
  },
  {
   "cell_type": "markdown",
   "id": "4c3fe6fd-c43f-4670-ba1d-c8b8f134fb49",
   "metadata": {},
   "source": [
    "### 5.1 - Branin"
   ]
  },
  {
   "cell_type": "code",
   "execution_count": 43,
   "id": "f35a34e5-c7f8-404e-924a-06e45832ec92",
   "metadata": {},
   "outputs": [],
   "source": [
    "function_name = \"Branin\""
   ]
  },
  {
   "cell_type": "code",
   "execution_count": 44,
   "id": "13638a20-4ee9-4a2f-a9de-3bbd8d88b36c",
   "metadata": {},
   "outputs": [
    {
     "name": "stdout",
     "output_type": "stream",
     "text": [
      "[[0.41993135 0.05377657]\n",
      " [0.2047982  0.37209348]\n",
      " [0.70877178 0.17730857]\n",
      " [0.34342434 0.99816565]\n",
      " [0.80913441 0.12474647]]\n",
      "[ 23.76009607  22.3823011   19.96193643 104.32434487  16.73184217]\n"
     ]
    }
   ],
   "source": [
    "X_function, Y_function = sampler          (space_size, N_function, function_name, all_function_parameters)\n",
    "X, Y                   = extract_K_samples(X_function, Y_function, N_train + N_test)\n",
    "X_observed, Y_observed = X[:N_train], Y[:N_train]\n",
    "X_test    , Y_test     = X[N_train:], Y[N_train:]\n",
    "print(X_observed[:5])\n",
    "print(Y_observed[:5])"
   ]
  },
  {
   "cell_type": "markdown",
   "id": "9c0bb629-acc4-409c-bfc4-9ea79cc1a0e5",
   "metadata": {},
   "source": [
    "### 5.2 - Branin hoo"
   ]
  },
  {
   "cell_type": "code",
   "execution_count": 45,
   "id": "dda59fbc-b6a9-4c31-b15f-71095e559b9f",
   "metadata": {},
   "outputs": [],
   "source": [
    "function_name = \"Branin hoo\""
   ]
  },
  {
   "cell_type": "code",
   "execution_count": 46,
   "id": "263dbd1a-4323-4f78-b74a-eac35943e7e7",
   "metadata": {},
   "outputs": [
    {
     "name": "stdout",
     "output_type": "stream",
     "text": [
      "[[0.97979207 0.53706733]\n",
      " [0.58413805 0.87431733]\n",
      " [0.4667514  0.23228635]\n",
      " [0.25388893 0.89811489]\n",
      " [0.97359678 0.76029808]]\n",
      "[-0.49129388  1.43366253 -0.93924683 -0.23457078  0.43749689]\n"
     ]
    }
   ],
   "source": [
    "X_function, Y_function = sampler          (space_size, N_function, function_name, all_function_parameters)\n",
    "X, Y                   = extract_K_samples(X_function, Y_function, N_train + N_test)\n",
    "X_observed, Y_observed = X[:N_train], Y[:N_train]\n",
    "X_test    , Y_test     = X[N_train:], Y[N_train:]\n",
    "print(X_observed[:5])\n",
    "print(Y_observed[:5])"
   ]
  },
  {
   "cell_type": "markdown",
   "id": "d7cf22b4-9ebb-4075-a9d0-4349522ed6c1",
   "metadata": {},
   "source": [
    "### 5.3 - Goldstein"
   ]
  },
  {
   "cell_type": "code",
   "execution_count": 47,
   "id": "e399fdaf-14c8-4c6e-a0dc-1c0bacf749a9",
   "metadata": {},
   "outputs": [],
   "source": [
    "function_name = \"Goldstein\""
   ]
  },
  {
   "cell_type": "code",
   "execution_count": 48,
   "id": "e1bbf03b-687e-4a4c-9c50-3770a9cba6e6",
   "metadata": {},
   "outputs": [
    {
     "name": "stdout",
     "output_type": "stream",
     "text": [
      "[[0.35467055 0.14608732]\n",
      " [0.85317987 0.57389952]\n",
      " [0.32178793 0.17142789]\n",
      " [0.91209749 0.24238687]\n",
      " [0.49300198 0.09670938]]\n",
      "[  194.66124161   683.65562267   595.40786012 49415.53919879\n",
      "  5638.70883185]\n"
     ]
    }
   ],
   "source": [
    "X_function, Y_function = sampler          (space_size, N_function, function_name, all_function_parameters)\n",
    "X, Y                   = extract_K_samples(X_function, Y_function, N_train + N_test)\n",
    "X_observed, Y_observed = X[:N_train], Y[:N_train]\n",
    "X_test    , Y_test     = X[N_train:], Y[N_train:]\n",
    "print(X_observed[:5])\n",
    "print(Y_observed[:5])"
   ]
  },
  {
   "cell_type": "markdown",
   "id": "1e2f3781-61fb-4743-92a6-78e240fb8fc5",
   "metadata": {},
   "source": [
    "### 5.4 - Goldstein price"
   ]
  },
  {
   "cell_type": "code",
   "execution_count": 49,
   "id": "7ed09bfb-2ad4-4d34-86e7-91decd97e105",
   "metadata": {},
   "outputs": [],
   "source": [
    "function_name = \"Goldstein price\""
   ]
  },
  {
   "cell_type": "code",
   "execution_count": 50,
   "id": "69bf9a42-f4c7-447a-8cc8-c22827ad0c36",
   "metadata": {},
   "outputs": [
    {
     "name": "stdout",
     "output_type": "stream",
     "text": [
      "[[0.21447983 0.34433852]\n",
      " [0.72946075 0.65644867]\n",
      " [0.91801624 0.02465542]\n",
      " [0.01965176 0.65843886]\n",
      " [0.26541785 0.44137394]]\n",
      "[-0.69615938 -0.77365235  1.2988352   0.67901355 -1.4237286 ]\n"
     ]
    }
   ],
   "source": [
    "X_function, Y_function = sampler          (space_size, N_function, function_name, all_function_parameters)\n",
    "X, Y                   = extract_K_samples(X_function, Y_function, N_train + N_test)\n",
    "X_observed, Y_observed = X[:N_train], Y[:N_train]\n",
    "X_test    , Y_test     = X[N_train:], Y[N_train:]\n",
    "print(X_observed[:5])\n",
    "print(Y_observed[:5])"
   ]
  },
  {
   "cell_type": "markdown",
   "id": "93de11dd-5356-4e55-96c9-fcfa0af76ac4",
   "metadata": {},
   "source": [
    "### 5.5 - Iooss1"
   ]
  },
  {
   "cell_type": "code",
   "execution_count": 51,
   "id": "7f498f48-82e0-479a-9d77-23f297b151fb",
   "metadata": {},
   "outputs": [],
   "source": [
    "function_name = \"Iooss1\""
   ]
  },
  {
   "cell_type": "code",
   "execution_count": 52,
   "id": "5aa7c8e5-04fa-41dc-b9fc-d1cc4943793f",
   "metadata": {},
   "outputs": [
    {
     "name": "stdout",
     "output_type": "stream",
     "text": [
      "[[0.42682712 0.54503973]\n",
      " [0.08923897 0.46497497]\n",
      " [0.08850342 0.09488035]\n",
      " [0.92837228 0.03673159]\n",
      " [0.69160578 0.93428619]]\n",
      "[2.82107468 1.81696791 0.84855952 1.8409372  0.29753806]\n"
     ]
    }
   ],
   "source": [
    "X_function, Y_function = sampler          (space_size, N_function, function_name, all_function_parameters)\n",
    "X, Y                   = extract_K_samples(X_function, Y_function, N_train + N_test)\n",
    "X_observed, Y_observed = X[:N_train], Y[:N_train]\n",
    "X_test    , Y_test     = X[N_train:], Y[N_train:]\n",
    "print(X_observed[:5])\n",
    "print(Y_observed[:5])"
   ]
  },
  {
   "cell_type": "markdown",
   "id": "9e8bb75e-703b-4b70-95fc-7269bb5b3f5d",
   "metadata": {},
   "source": [
    "### 5.6 - Iooss2"
   ]
  },
  {
   "cell_type": "code",
   "execution_count": 53,
   "id": "1fb6acec-aeaa-45c5-9b39-9b7ab387c9ab",
   "metadata": {},
   "outputs": [],
   "source": [
    "function_name = \"Iooss2\""
   ]
  },
  {
   "cell_type": "code",
   "execution_count": 54,
   "id": "d02dff10-ff12-47a2-9138-289546192511",
   "metadata": {},
   "outputs": [
    {
     "name": "stdout",
     "output_type": "stream",
     "text": [
      "[[0.98206894 0.33332952]\n",
      " [0.28612555 0.76107057]\n",
      " [0.75821182 0.55768428]\n",
      " [0.52534799 0.67674776]\n",
      " [0.80752324 0.55904406]]\n",
      "[1.52681848 0.23650204 1.2022355  0.75287232 1.28822773]\n"
     ]
    }
   ],
   "source": [
    "X_function, Y_function = sampler          (space_size, N_function, function_name, all_function_parameters)\n",
    "X, Y                   = extract_K_samples(X_function, Y_function, N_train + N_test)\n",
    "X_observed, Y_observed = X[:N_train], Y[:N_train]\n",
    "X_test    , Y_test     = X[N_train:], Y[N_train:]\n",
    "print(X_observed[:5])\n",
    "print(Y_observed[:5])"
   ]
  },
  {
   "cell_type": "markdown",
   "id": "e5d681a6-478f-4a40-8f2e-5f539d2e5baa",
   "metadata": {},
   "source": [
    "### 5.7 - Two input toy"
   ]
  },
  {
   "cell_type": "code",
   "execution_count": 55,
   "id": "e167b00a-9ad4-4d79-b44c-07258ad104a6",
   "metadata": {},
   "outputs": [],
   "source": [
    "function_name = \"Two input toy\""
   ]
  },
  {
   "cell_type": "code",
   "execution_count": 56,
   "id": "1a222415-86b2-4654-8b23-b09a7af5544d",
   "metadata": {},
   "outputs": [
    {
     "name": "stdout",
     "output_type": "stream",
     "text": [
      "[[0.98045036 0.8519382 ]\n",
      " [0.58162081 0.22195994]\n",
      " [0.89829517 0.35879964]\n",
      " [0.29501316 0.02951243]\n",
      " [0.67558436 0.70181525]]\n",
      "[ 4.5263488  10.05324464  7.73494917 13.40366163  5.51559798]\n"
     ]
    }
   ],
   "source": [
    "X_function, Y_function = sampler          (space_size, N_function, function_name, all_function_parameters)\n",
    "X, Y                   = extract_K_samples(X_function, Y_function, N_train + N_test)\n",
    "X_observed, Y_observed = X[:N_train], Y[:N_train]\n",
    "X_test    , Y_test     = X[N_train:], Y[N_train:]\n",
    "print(X_observed[:5])\n",
    "print(Y_observed[:5])"
   ]
  },
  {
   "cell_type": "markdown",
   "id": "6df1c608-cdbb-475b-8b66-a7e958910e4e",
   "metadata": {},
   "source": [
    "### 5.8 - Highly non linear"
   ]
  },
  {
   "cell_type": "code",
   "execution_count": 57,
   "id": "32094a2d-fce4-4fb3-abb2-0dddf746db85",
   "metadata": {},
   "outputs": [],
   "source": [
    "function_name = \"Highly non linear\""
   ]
  },
  {
   "cell_type": "code",
   "execution_count": 58,
   "id": "26683927-d454-4ac6-a1eb-8d9f6d31104a",
   "metadata": {},
   "outputs": [
    {
     "name": "stdout",
     "output_type": "stream",
     "text": [
      "[[0.67718139 0.02836157]\n",
      " [0.67538321 0.7362458 ]\n",
      " [0.99571753 0.53836366]\n",
      " [0.69159829 0.06229173]\n",
      " [0.45695218 0.95902744]]\n",
      "[7.92251522 8.28825331 7.80686312 7.8418645  8.82876987]\n"
     ]
    }
   ],
   "source": [
    "X_function, Y_function = sampler          (space_size, N_function, function_name, all_function_parameters)\n",
    "X, Y                   = extract_K_samples(X_function, Y_function, N_train + N_test)\n",
    "X_observed, Y_observed = X[:N_train], Y[:N_train]\n",
    "X_test    , Y_test     = X[N_train:], Y[N_train:]\n",
    "print(X_observed[:5])\n",
    "print(Y_observed[:5])"
   ]
  },
  {
   "cell_type": "markdown",
   "id": "a32609f4-e478-466c-ac15-806ca250fdaf",
   "metadata": {},
   "source": [
    "### 5.9 - Mystery"
   ]
  },
  {
   "cell_type": "code",
   "execution_count": 59,
   "id": "e5b714ff-4a78-4a2f-8990-f8d8ab170336",
   "metadata": {},
   "outputs": [],
   "source": [
    "function_name = \"Mystery\""
   ]
  },
  {
   "cell_type": "code",
   "execution_count": 60,
   "id": "a561cc2f-0b8e-4951-b096-bedaf14d6cf4",
   "metadata": {},
   "outputs": [
    {
     "name": "stdout",
     "output_type": "stream",
     "text": [
      "[[0.87996008 0.53085321]\n",
      " [0.98654588 0.81282046]\n",
      " [0.0959822  0.48863473]\n",
      " [0.47136992 0.13783046]\n",
      " [0.22772942 0.28578107]]\n",
      "[7.39504313 6.59686371 7.48578889 9.53836375 8.68613089]\n"
     ]
    }
   ],
   "source": [
    "X_function, Y_function = sampler          (space_size, N_function, function_name, all_function_parameters)\n",
    "X, Y                   = extract_K_samples(X_function, Y_function, N_train + N_test)\n",
    "X_observed, Y_observed = X[:N_train], Y[:N_train]\n",
    "X_test    , Y_test     = X[N_train:], Y[N_train:]\n",
    "print(X_observed[:5])\n",
    "print(Y_observed[:5])"
   ]
  },
  {
   "cell_type": "markdown",
   "id": "23de8f0d-10ca-4f78-ad29-1df3e8d35df6",
   "metadata": {},
   "source": [
    "### 5.10 - Six hump camelback"
   ]
  },
  {
   "cell_type": "code",
   "execution_count": 61,
   "id": "672421f4-c465-4c3a-b873-b5617571ff05",
   "metadata": {},
   "outputs": [],
   "source": [
    "function_name = \"Six hump camelback\""
   ]
  },
  {
   "cell_type": "code",
   "execution_count": 62,
   "id": "11668eec-2f42-446f-af2f-2877938c6768",
   "metadata": {},
   "outputs": [
    {
     "name": "stdout",
     "output_type": "stream",
     "text": [
      "[[0.40274758 0.44547048]\n",
      " [0.58127235 0.62819312]\n",
      " [0.76306452 0.79726856]\n",
      " [0.95644575 0.73263794]\n",
      " [0.61244743 0.19665962]]\n",
      "[ 0.55379397  0.23736784  2.01837559  2.51686935 -0.47719667]\n"
     ]
    }
   ],
   "source": [
    "X_function, Y_function = sampler          (space_size, N_function, function_name, all_function_parameters)\n",
    "X, Y                   = extract_K_samples(X_function, Y_function, N_train + N_test)\n",
    "X_observed, Y_observed = X[:N_train], Y[:N_train]\n",
    "X_test    , Y_test     = X[N_train:], Y[N_train:]\n",
    "print(X_observed[:5])\n",
    "print(Y_observed[:5])"
   ]
  },
  {
   "cell_type": "markdown",
   "id": "da72bcda-2950-489c-87f7-9afe98031f77",
   "metadata": {},
   "source": [
    "# 6 - Literature datasets nD"
   ]
  },
  {
   "cell_type": "markdown",
   "id": "18b55c84-35bf-4ed1-a2ea-a074ec1fa538",
   "metadata": {},
   "source": [
    "### 6.1 - Morokoff & Caflisch 1"
   ]
  },
  {
   "cell_type": "code",
   "execution_count": 63,
   "id": "f3df378f-4d4d-4c25-bdb0-c8e2dd23e85e",
   "metadata": {},
   "outputs": [],
   "source": [
    "function_name = \"Morokoff & caflisch 1\""
   ]
  },
  {
   "cell_type": "code",
   "execution_count": 64,
   "id": "aa1b8a15-e377-4c09-bef6-14f75c0cedf5",
   "metadata": {},
   "outputs": [
    {
     "name": "stdout",
     "output_type": "stream",
     "text": [
      "[[0.94751156 0.06919817]\n",
      " [0.80814293 0.08238707]\n",
      " [0.52877951 0.89803209]\n",
      " [0.48562144 0.39028123]\n",
      " [0.96236715 0.17646844]]\n",
      "[0.57613211 0.58057208 1.55047852 0.97953572 0.92722777]\n"
     ]
    }
   ],
   "source": [
    "X_function, Y_function = sampler          (space_size, N_function, function_name, all_function_parameters)\n",
    "X, Y                   = extract_K_samples(X_function, Y_function, N_train + N_test)\n",
    "X_observed, Y_observed = X[:N_train], Y[:N_train]\n",
    "X_test    , Y_test     = X[N_train:], Y[N_train:]\n",
    "print(X_observed[:5])\n",
    "print(Y_observed[:5])"
   ]
  },
  {
   "cell_type": "markdown",
   "id": "e970140b-d355-4441-9d05-5789dc5f3c9a",
   "metadata": {},
   "source": [
    "### 6.2 - Morokoff & Caflisch 2"
   ]
  },
  {
   "cell_type": "code",
   "execution_count": 65,
   "id": "01ee012c-5894-461f-98f0-d4071e234208",
   "metadata": {},
   "outputs": [],
   "source": [
    "function_name = \"Morokoff & caflisch 2\""
   ]
  },
  {
   "cell_type": "code",
   "execution_count": 66,
   "id": "3701c76e-14f0-4794-989b-e61d48931981",
   "metadata": {},
   "outputs": [
    {
     "name": "stdout",
     "output_type": "stream",
     "text": [
      "[[0.08414485 0.53169134]\n",
      " [0.91122498 0.02039367]\n",
      " [0.77157248 0.25769586]\n",
      " [0.28802401 0.21039333]\n",
      " [0.27552222 0.30422153]]\n",
      "[1.25025187 0.95793152 0.95124193 1.36167274 1.29970324]\n"
     ]
    }
   ],
   "source": [
    "X_function, Y_function = sampler          (space_size, N_function, function_name, all_function_parameters)\n",
    "X, Y                   = extract_K_samples(X_function, Y_function, N_train + N_test)\n",
    "X_observed, Y_observed = X[:N_train], Y[:N_train]\n",
    "X_test    , Y_test     = X[N_train:], Y[N_train:]\n",
    "print(X_observed[:5])\n",
    "print(Y_observed[:5])"
   ]
  },
  {
   "cell_type": "markdown",
   "id": "6645babc-b05c-4e03-9bed-14f93f078d81",
   "metadata": {},
   "source": [
    "### 6.3 - Rosenbrock4"
   ]
  },
  {
   "cell_type": "code",
   "execution_count": 67,
   "id": "7a350440-1b6b-4248-888a-81ec405a5f20",
   "metadata": {},
   "outputs": [],
   "source": [
    "function_name = \"Rosenbrock4\""
   ]
  },
  {
   "cell_type": "code",
   "execution_count": 68,
   "id": "9e2664d5-b7bf-43df-97c5-03f36246887c",
   "metadata": {},
   "outputs": [
    {
     "name": "stdout",
     "output_type": "stream",
     "text": [
      "[[0.12590416 0.9463079  0.91629863 0.70015092]\n",
      " [0.83547337 0.2433305  0.96886138 0.35789151]\n",
      " [0.50609529 0.75160439 0.46230512 0.21094911]\n",
      " [0.42415028 0.99518226 0.62805579 0.59767319]\n",
      " [0.78622992 0.2057872  0.00301286 0.36379694]]\n",
      "[ 1.85236531  2.07695876 -0.63766192  1.42315093 -0.22939095]\n"
     ]
    }
   ],
   "source": [
    "X_function, Y_function = sampler          (space_size, N_function, function_name, all_function_parameters)\n",
    "X, Y                   = extract_K_samples(X_function, Y_function, N_train + N_test)\n",
    "X_observed, Y_observed = X[:N_train], Y[:N_train]\n",
    "X_test    , Y_test     = X[N_train:], Y[N_train:]\n",
    "print(X_observed[:5])\n",
    "print(Y_observed[:5])"
   ]
  },
  {
   "cell_type": "markdown",
   "id": "3abb2dd4-6b21-43a9-80d6-7f5285c1154c",
   "metadata": {},
   "source": [
    "### 6.4 - Hartman4"
   ]
  },
  {
   "cell_type": "code",
   "execution_count": 69,
   "id": "ac016dc3-8062-4ad1-afef-0ab438157461",
   "metadata": {},
   "outputs": [],
   "source": [
    "function_name = \"Hartman4\""
   ]
  },
  {
   "cell_type": "code",
   "execution_count": 70,
   "id": "27a62eae-a19f-4d6d-9548-bcaa72d79db3",
   "metadata": {},
   "outputs": [
    {
     "name": "stdout",
     "output_type": "stream",
     "text": [
      "[[0.82480399 0.33111009 0.03700553 0.65263459]\n",
      " [0.19991496 0.99305179 0.50372272 0.98909036]\n",
      " [0.86269296 0.25426469 0.78921365 0.77432906]\n",
      " [0.70251673 0.80607023 0.65875119 0.29042923]\n",
      " [0.53702703 0.01531005 0.44912194 0.03971423]]\n",
      "[ 1.04624238  0.99468865  0.19623568  0.417619   -0.24827123]\n"
     ]
    }
   ],
   "source": [
    "X_function, Y_function = sampler          (space_size, N_function, function_name, all_function_parameters)\n",
    "X, Y                   = extract_K_samples(X_function, Y_function, N_train + N_test)\n",
    "X_observed, Y_observed = X[:N_train], Y[:N_train]\n",
    "X_test    , Y_test     = X[N_train:], Y[N_train:]\n",
    "print(X_observed[:5])\n",
    "print(Y_observed[:5])"
   ]
  },
  {
   "cell_type": "markdown",
   "id": "8fe20612-0a56-4478-8b98-cf5288455b8e",
   "metadata": {},
   "source": [
    "### 6.5 - Hartman6"
   ]
  },
  {
   "cell_type": "code",
   "execution_count": 71,
   "id": "35f6d083-6bce-481e-9f30-c1acd38fe87a",
   "metadata": {},
   "outputs": [],
   "source": [
    "function_name = \"Hartman6\""
   ]
  },
  {
   "cell_type": "code",
   "execution_count": 72,
   "id": "895f94ea-80b8-4442-a951-0c8d46e4d1db",
   "metadata": {},
   "outputs": [
    {
     "name": "stdout",
     "output_type": "stream",
     "text": [
      "[[0.40238815 0.90446767 0.19790116 0.26562169 0.32980303 0.07694418]\n",
      " [0.35224393 0.33527526 0.33045671 0.79225915 0.00239764 0.19457393]\n",
      " [0.54458691 0.79765161 0.17886159 0.17787308 0.90737924 0.5387214 ]\n",
      " [0.11270803 0.80799955 0.73259237 0.95870018 0.9719421  0.73700996]\n",
      " [0.95175124 0.68253498 0.1171161  0.33642104 0.32319328 0.10904534]]\n",
      "[-1.94498054 -1.39706593 -1.33887471 -1.33323036 -1.3426609 ]\n"
     ]
    }
   ],
   "source": [
    "X_function, Y_function = sampler          (space_size, N_function, function_name, all_function_parameters)\n",
    "X, Y                   = extract_K_samples(X_function, Y_function, N_train + N_test)\n",
    "X_observed, Y_observed = X[:N_train], Y[:N_train]\n",
    "X_test    , Y_test     = X[N_train:], Y[N_train:]\n",
    "print(X_observed[:5])\n",
    "print(Y_observed[:5])"
   ]
  },
  {
   "cell_type": "markdown",
   "id": "5856ba05-18ff-489e-b41e-2f0d36f6a63e",
   "metadata": {},
   "source": [
    "### 6.6 - Sphere6"
   ]
  },
  {
   "cell_type": "code",
   "execution_count": 73,
   "id": "994ac7b4-2284-4928-87a7-f05f458604b3",
   "metadata": {},
   "outputs": [],
   "source": [
    "function_name = \"Sphere6\""
   ]
  },
  {
   "cell_type": "code",
   "execution_count": 74,
   "id": "e07efdc6-deb8-48c5-a6ab-a90335e45d40",
   "metadata": {},
   "outputs": [
    {
     "name": "stdout",
     "output_type": "stream",
     "text": [
      "[[0.60429529 0.28942435 0.12369415 0.52427264 0.83278493 0.62813293]\n",
      " [0.93419551 0.82906276 0.62956288 0.93809934 0.18693447 0.88426985]\n",
      " [0.13499271 0.21246913 0.17625248 0.89852536 0.27516924 0.25836393]\n",
      " [0.43843822 0.08629528 0.7876462  0.37245069 0.06171488 0.42141673]\n",
      " [0.43777155 0.24577656 0.01744882 0.96485177 0.27965724 0.08608984]]\n",
      "[-1.88205801 -1.85994655 -1.91871167 -1.91981689 -1.92046789]\n"
     ]
    }
   ],
   "source": [
    "X_function, Y_function = sampler          (space_size, N_function, function_name, all_function_parameters)\n",
    "X, Y                   = extract_K_samples(X_function, Y_function, N_train + N_test)\n",
    "X_observed, Y_observed = X[:N_train], Y[:N_train]\n",
    "X_test    , Y_test     = X[N_train:], Y[N_train:]\n",
    "print(X_observed[:5])\n",
    "print(Y_observed[:5])"
   ]
  },
  {
   "cell_type": "markdown",
   "id": "949bdb8b-6a79-401a-8a23-9775acce7b3e",
   "metadata": {},
   "source": [
    "### 6.7 - Wing weight"
   ]
  },
  {
   "cell_type": "code",
   "execution_count": 75,
   "id": "2a0e4e17-8b2f-466a-a39c-8a21feefdb46",
   "metadata": {},
   "outputs": [],
   "source": [
    "function_name = \"Wing weight\""
   ]
  },
  {
   "cell_type": "code",
   "execution_count": 76,
   "id": "996dcb6c-6e1c-449b-9936-e0782dba500c",
   "metadata": {},
   "outputs": [
    {
     "name": "stdout",
     "output_type": "stream",
     "text": [
      "[[ 1.57726946e+02  2.99071426e+02  6.38047787e+00  5.24758723e+00\n",
      "   2.84054124e+01  8.16287994e-01  1.43278621e-01  3.09292483e+00\n",
      "   2.07026539e+03  3.78399625e-02]\n",
      " [ 1.75117047e+02  2.70207456e+02  8.02384214e+00 -1.17415520e+00\n",
      "   3.47892648e+01  8.21503787e-01  1.76982121e-01  5.63912509e+00\n",
      "   2.13285484e+03  3.82866755e-02]\n",
      " [ 1.68811867e+02  2.35482091e+02  9.04947090e+00 -4.68288006e+00\n",
      "   2.65706776e+01  7.71573441e-01  1.66547184e-01  4.32985106e+00\n",
      "   1.84247094e+03  5.76567874e-02]\n",
      " [ 1.55445975e+02  2.90157763e+02  9.35210462e+00 -4.81358529e+00\n",
      "   2.28338675e+01  7.18707915e-01  8.69428599e-02  2.73158418e+00\n",
      "   2.46807463e+03  4.68959168e-02]\n",
      " [ 1.99758323e+02  2.31038050e+02  9.79183032e+00 -1.96259103e+00\n",
      "   1.74705443e+01  6.13727484e-01  1.67764629e-01  4.24315885e+00\n",
      "   1.81744355e+03  7.46300767e-02]]\n",
      "[ 322.5923142   652.90904204           nan 2009.20570969           nan]\n"
     ]
    },
    {
     "name": "stderr",
     "output_type": "stream",
     "text": [
      "C:\\Users/L2S/Desktop/Efficient_and_reliable_GP/Code\\dataset_generation.py:363: RuntimeWarning: invalid value encountered in scalar power\n",
      "  y                                       = 0.036 * x1**0.758 * x2**0.0035 * (x3 / np.cos(x4)**2)**0.6 * x5**0.006 * x6**0.04 * (100 * x7 / np.cos(x4))**(-0.3) * (x8 * x9)**0.49 + x1 * x10\n"
     ]
    }
   ],
   "source": [
    "X_function, Y_function = sampler          (space_size, N_function, function_name, all_function_parameters)\n",
    "X, Y                   = extract_K_samples(X_function, Y_function, N_train + N_test)\n",
    "X_observed, Y_observed = X[:N_train], Y[:N_train]\n",
    "X_test    , Y_test     = X[N_train:], Y[N_train:]\n",
    "print(X_observed[:5])\n",
    "print(Y_observed[:5])"
   ]
  },
  {
   "cell_type": "markdown",
   "id": "0bab3b7c-2bc7-4a5e-9650-26214e6a5ead",
   "metadata": {},
   "source": [
    "### 6.8 - Sobol"
   ]
  },
  {
   "cell_type": "code",
   "execution_count": 77,
   "id": "b8384b79-06f1-4390-9b9e-cfd83c655c16",
   "metadata": {},
   "outputs": [],
   "source": [
    "function_name = \"Sobol\""
   ]
  },
  {
   "cell_type": "code",
   "execution_count": 78,
   "id": "8d31e361-f271-448e-a7f3-ac2273fbac30",
   "metadata": {},
   "outputs": [
    {
     "name": "stdout",
     "output_type": "stream",
     "text": [
      "[[0.08152359 0.08060389]\n",
      " [0.13313787 0.4132952 ]\n",
      " [0.68696507 0.50001548]\n",
      " [0.97369639 0.86802264]\n",
      " [0.26719025 0.05017312]]\n",
      "[1.41930723 1.16046563 0.79448687 1.50951101 1.03578558]\n"
     ]
    }
   ],
   "source": [
    "X_function, Y_function = sampler          (space_size, N_function, function_name, all_function_parameters)\n",
    "X, Y                   = extract_K_samples(X_function, Y_function, N_train + N_test)\n",
    "X_observed, Y_observed = X[:N_train], Y[:N_train]\n",
    "X_test    , Y_test     = X[N_train:], Y[N_train:]\n",
    "print(X_observed[:5])\n",
    "print(Y_observed[:5])"
   ]
  },
  {
   "cell_type": "markdown",
   "id": "65346e5a-0303-4ce5-8e5c-509d951dcb42",
   "metadata": {},
   "source": [
    "### 6.9 - Ishigami"
   ]
  },
  {
   "cell_type": "code",
   "execution_count": 79,
   "id": "716bf48b-c931-40ee-b4cf-ecf2e18fa9fd",
   "metadata": {},
   "outputs": [],
   "source": [
    "function_name = \"Ishigami\""
   ]
  },
  {
   "cell_type": "code",
   "execution_count": 80,
   "id": "4f058086-b802-489f-800f-2b339bf982c6",
   "metadata": {},
   "outputs": [
    {
     "name": "stdout",
     "output_type": "stream",
     "text": [
      "[[0.87357033 0.71552332 0.21732282]\n",
      " [0.4902317  0.21170384 0.2831974 ]\n",
      " [0.71199024 0.50857101 0.47979943]\n",
      " [0.62451316 0.12603279 0.60595974]\n",
      " [0.10854349 0.43699486 0.47114745]]\n",
      "[8.10001621 6.5200116  0.99192404 4.26421333 0.410472  ]\n"
     ]
    }
   ],
   "source": [
    "X_function, Y_function = sampler          (space_size, N_function, function_name, all_function_parameters)\n",
    "X, Y                   = extract_K_samples(X_function, Y_function, N_train + N_test)\n",
    "X_observed, Y_observed = X[:N_train], Y[:N_train]\n",
    "X_test    , Y_test     = X[N_train:], Y[N_train:]\n",
    "print(X_observed[:5])\n",
    "print(Y_observed[:5])"
   ]
  },
  {
   "cell_type": "code",
   "execution_count": null,
   "id": "646bee7d-2180-4ab2-8bfb-6d515eee3b74",
   "metadata": {},
   "outputs": [],
   "source": []
  }
 ],
 "metadata": {
  "kernelspec": {
   "display_name": "Python 3 (ipykernel)",
   "language": "python",
   "name": "python3"
  },
  "language_info": {
   "codemirror_mode": {
    "name": "ipython",
    "version": 3
   },
   "file_extension": ".py",
   "mimetype": "text/x-python",
   "name": "python",
   "nbconvert_exporter": "python",
   "pygments_lexer": "ipython3",
   "version": "3.11.7"
  }
 },
 "nbformat": 4,
 "nbformat_minor": 5
}
